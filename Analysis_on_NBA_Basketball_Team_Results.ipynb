{
  "nbformat": 4,
  "nbformat_minor": 5,
  "metadata": {
    "kernelspec": {
      "display_name": "Python 3",
      "language": "python",
      "name": "python3"
    },
    "language_info": {
      "codemirror_mode": {
        "name": "ipython",
        "version": 3
      },
      "file_extension": ".py",
      "mimetype": "text/x-python",
      "name": "python",
      "nbconvert_exporter": "python",
      "pygments_lexer": "ipython3",
      "version": "3.8.8"
    },
    "colab": {
      "name": "Analysis on NBA Basketball Team Results.ipynb",
      "provenance": [],
      "include_colab_link": true
    }
  },
  "cells": [
    {
      "cell_type": "markdown",
      "metadata": {
        "id": "view-in-github",
        "colab_type": "text"
      },
      "source": [
        "<a href=\"https://colab.research.google.com/github/fesimaxu/Pandas-Puzzles/blob/main/Analysis_on_NBA_Basketball_Team_Results.ipynb\" target=\"_parent\"><img src=\"https://colab.research.google.com/assets/colab-badge.svg\" alt=\"Open In Colab\"/></a>"
      ]
    },
    {
      "cell_type": "markdown",
      "metadata": {
        "id": "c9ea28b6"
      },
      "source": [
        "## PROCEDURES\n",
        "### Import python Libraries\n",
        "### Extracting the Team gamelog Table\n",
        "### Calculating the Teams performance indicators\n",
        "### Analysising the Teams with their respective performance indicators\n",
        "## DESCRIPTION Of DATASET\n",
        "### A Dataset of National Basketball Association Teams of Los Angeles Lakers, Boston Celtics and Miami Heat Gamelog.\n",
        "### The Dataset of over 20 games played in 2020/2021 NBA season\n",
        "### The Gamelog Dataset consists of number of games played,opponents points,Team points, field goal percentage,Turnover,Assists on field goal etc\n",
        "## Aims of The Analysis on the Dataset\n",
        "### To determine the best performing team of the season\n",
        "### To determine the team performance index against opponent during the season"
      ],
      "id": "c9ea28b6"
    },
    {
      "cell_type": "markdown",
      "metadata": {
        "id": "30c36641"
      },
      "source": [
        "## Importing Python Libraries"
      ],
      "id": "30c36641"
    },
    {
      "cell_type": "code",
      "metadata": {
        "id": "73878aef"
      },
      "source": [
        "import requests\n",
        "import lxml.html as lh\n",
        "import pandas as pd\n",
        "import numpy as np\n",
        "from bs4 import BeautifulSoup as bs "
      ],
      "id": "73878aef",
      "execution_count": 1,
      "outputs": []
    },
    {
      "cell_type": "code",
      "metadata": {
        "id": "ae8563ad"
      },
      "source": [
        "\n",
        "import re"
      ],
      "id": "ae8563ad",
      "execution_count": 2,
      "outputs": []
    },
    {
      "cell_type": "code",
      "metadata": {
        "id": "0c93462f"
      },
      "source": [
        "import matplotlib.pyplot as plt\n",
        "import seaborn as sns\n",
        "\n",
        "%matplotlib inline"
      ],
      "id": "0c93462f",
      "execution_count": 3,
      "outputs": []
    },
    {
      "cell_type": "markdown",
      "metadata": {
        "id": "8926cb96"
      },
      "source": [
        "## NBA Basketball Team Results"
      ],
      "id": "8926cb96"
    },
    {
      "cell_type": "code",
      "metadata": {
        "id": "cd0d6fcf"
      },
      "source": [
        "## 2020-21 Los Angeles Lakers Schedule and Results\n",
        "\n",
        "Lakers_base_url = \"https://www.basketball-reference.com/teams/LAL/2021/gamelog/#tgl_basic::27\""
      ],
      "id": "cd0d6fcf",
      "execution_count": 4,
      "outputs": []
    },
    {
      "cell_type": "code",
      "metadata": {
        "id": "8ed1dd60"
      },
      "source": [
        "## 2020-21 Boston Celtics Schedule and Results\n",
        "\n",
        "Celtics_base_url = \"https://www.basketball-reference.com/teams/BOS/2021/gamelog/#tgl_basic\""
      ],
      "id": "8ed1dd60",
      "execution_count": 5,
      "outputs": []
    },
    {
      "cell_type": "code",
      "metadata": {
        "id": "00dfe371"
      },
      "source": [
        "## 2020-21 Miami Heat Schedule and Results\n",
        "\n",
        "Miami_heat_base_url = \"https://www.basketball-reference.com/teams/MIA/2021/gamelog/#tgl_basic\""
      ],
      "id": "00dfe371",
      "execution_count": 6,
      "outputs": []
    },
    {
      "cell_type": "markdown",
      "metadata": {
        "id": "dd87db9f"
      },
      "source": [
        "## Obtaining the NBA Teams Respective Data"
      ],
      "id": "dd87db9f"
    },
    {
      "cell_type": "code",
      "metadata": {
        "id": "143b4e7d"
      },
      "source": [
        "Lakers_response = requests.get(Lakers_base_url)\n",
        "Celtics_response = requests.get(Celtics_base_url)\n",
        "Miami_heat_response = requests.get(Miami_heat_base_url)"
      ],
      "id": "143b4e7d",
      "execution_count": 7,
      "outputs": []
    },
    {
      "cell_type": "code",
      "metadata": {
        "colab": {
          "base_uri": "https://localhost:8080/"
        },
        "id": "1e6881e6",
        "outputId": "bfe822e4-2ba5-4fb3-d569-aef31cbbabc4"
      },
      "source": [
        "Lakers_response.status_code\n",
        "Celtics_response.status_code\n",
        "Miami_heat_response.status_code"
      ],
      "id": "1e6881e6",
      "execution_count": 8,
      "outputs": [
        {
          "output_type": "execute_result",
          "data": {
            "text/plain": [
              "200"
            ]
          },
          "metadata": {},
          "execution_count": 8
        }
      ]
    },
    {
      "cell_type": "code",
      "metadata": {
        "colab": {
          "base_uri": "https://localhost:8080/"
        },
        "id": "a4fd19c7",
        "outputId": "cd11778f-a586-4e2d-bbb6-f2fe318a3812"
      },
      "source": [
        "len(Lakers_response.text)"
      ],
      "id": "a4fd19c7",
      "execution_count": 9,
      "outputs": [
        {
          "output_type": "execute_result",
          "data": {
            "text/plain": [
              "304739"
            ]
          },
          "metadata": {},
          "execution_count": 9
        }
      ]
    },
    {
      "cell_type": "code",
      "metadata": {
        "colab": {
          "base_uri": "https://localhost:8080/"
        },
        "id": "d65a29c1",
        "outputId": "5253808c-0030-42d6-aeab-9e51f8f6b5d6"
      },
      "source": [
        "len(Celtics_response.text)"
      ],
      "id": "d65a29c1",
      "execution_count": 10,
      "outputs": [
        {
          "output_type": "execute_result",
          "data": {
            "text/plain": [
              "302597"
            ]
          },
          "metadata": {},
          "execution_count": 10
        }
      ]
    },
    {
      "cell_type": "code",
      "metadata": {
        "colab": {
          "base_uri": "https://localhost:8080/"
        },
        "id": "7dcb4fb4",
        "outputId": "34104fd9-aba8-498d-bdc5-9c8cfb57cb0d"
      },
      "source": [
        "len(Miami_heat_response.text)"
      ],
      "id": "7dcb4fb4",
      "execution_count": 11,
      "outputs": [
        {
          "output_type": "execute_result",
          "data": {
            "text/plain": [
              "300392"
            ]
          },
          "metadata": {},
          "execution_count": 11
        }
      ]
    },
    {
      "cell_type": "markdown",
      "metadata": {
        "id": "dfd687d1"
      },
      "source": [
        "## 2020-21 Los Angeles Lakers NBA Team"
      ],
      "id": "dfd687d1"
    },
    {
      "cell_type": "code",
      "metadata": {
        "id": "0fcde09a"
      },
      "source": [
        "## Using xml.html library to extract the text\n",
        "\n",
        "Lakers_page_content = Lakers_response.text\n",
        "Lakers_doc = lh.fromstring(Lakers_response.content)\n",
        "Lakers_tr_elements = Lakers_doc.xpath('//tr')"
      ],
      "id": "0fcde09a",
      "execution_count": 12,
      "outputs": []
    },
    {
      "cell_type": "code",
      "metadata": {
        "colab": {
          "base_uri": "https://localhost:8080/"
        },
        "id": "1e8e0413",
        "outputId": "14af9341-ecc7-40de-8edb-419e12a8af52"
      },
      "source": [
        "[len(T) for T in Lakers_tr_elements[:20]]"
      ],
      "id": "1e8e0413",
      "execution_count": 13,
      "outputs": [
        {
          "output_type": "execute_result",
          "data": {
            "text/plain": [
              "[6, 41, 41, 41, 41, 41, 41, 41, 41, 41, 41, 41, 41, 41, 41, 41, 41, 41, 41, 41]"
            ]
          },
          "metadata": {},
          "execution_count": 13
        }
      ]
    },
    {
      "cell_type": "code",
      "metadata": {
        "colab": {
          "base_uri": "https://localhost:8080/"
        },
        "id": "ae61b6c8",
        "outputId": "f81702e6-9299-499d-cb12-f95062377a72"
      },
      "source": [
        "#Extracting the column names of the table\n",
        "\n",
        "Lakers_tr_elements = Lakers_doc.xpath('//tr')\n",
        "Lakers_col=[]\n",
        "i=0\n",
        "\n",
        "for t in Lakers_tr_elements[1]:\n",
        "            i+=1\n",
        "            name=t.text_content()\n",
        "            print('%d:\"%s\"'%(i,name))\n",
        "            Lakers_col.append((name,[])),"
      ],
      "id": "ae61b6c8",
      "execution_count": 14,
      "outputs": [
        {
          "output_type": "stream",
          "name": "stdout",
          "text": [
            "1:\"Rk\"\n",
            "2:\"G\"\n",
            "3:\"Date\"\n",
            "4:\" \"\n",
            "5:\"Opp\"\n",
            "6:\"W/L\"\n",
            "7:\"Tm\"\n",
            "8:\"Opp\"\n",
            "9:\"FG\"\n",
            "10:\"FGA\"\n",
            "11:\"FG%\"\n",
            "12:\"3P\"\n",
            "13:\"3PA\"\n",
            "14:\"3P%\"\n",
            "15:\"FT\"\n",
            "16:\"FTA\"\n",
            "17:\"FT%\"\n",
            "18:\"ORB\"\n",
            "19:\"TRB\"\n",
            "20:\"AST\"\n",
            "21:\"STL\"\n",
            "22:\"BLK\"\n",
            "23:\"TOV\"\n",
            "24:\"PF\"\n",
            "25:\" \"\n",
            "26:\"FG\"\n",
            "27:\"FGA\"\n",
            "28:\"FG%\"\n",
            "29:\"3P\"\n",
            "30:\"3PA\"\n",
            "31:\"3P%\"\n",
            "32:\"FT\"\n",
            "33:\"FTA\"\n",
            "34:\"FT%\"\n",
            "35:\"ORB\"\n",
            "36:\"TRB\"\n",
            "37:\"AST\"\n",
            "38:\"STL\"\n",
            "39:\"BLK\"\n",
            "40:\"TOV\"\n",
            "41:\"PF\"\n"
          ]
        }
      ]
    },
    {
      "cell_type": "markdown",
      "metadata": {
        "id": "4d989d70"
      },
      "source": [
        "## Accessing 2020-21 Los Angeles Lakers Game Log Table"
      ],
      "id": "4d989d70"
    },
    {
      "cell_type": "code",
      "metadata": {
        "id": "0682a87b"
      },
      "source": [
        "## Extracting the text on each row of table according to its respective column\n",
        "\n",
        "for j in range(1,len(Lakers_tr_elements)):\n",
        "    T = Lakers_tr_elements[j]\n",
        "    \n",
        "## The number of columns\n",
        "\n",
        "    if len(T)!=41:\n",
        "        break\n",
        "    \n",
        "    i=0\n",
        "## Obtaining the text content and appending to its respective column name\n",
        "\n",
        "    for t in T.iterchildren():\n",
        "        Lakers_data=t.text_content() \n",
        "\n",
        "        if i>0:\n",
        "        \n",
        "            try:\n",
        "                Lakers_data=int(Lakers_data)\n",
        "            except:\n",
        "                pass\n",
        "        \n",
        "        Lakers_col[i][1].append(Lakers_data)\n",
        "        \n",
        "        i+=1"
      ],
      "id": "0682a87b",
      "execution_count": 15,
      "outputs": []
    },
    {
      "cell_type": "code",
      "metadata": {
        "colab": {
          "base_uri": "https://localhost:8080/"
        },
        "id": "395aac81",
        "outputId": "a268a8bc-254e-46e9-bc49-4aaca00d1b87"
      },
      "source": [
        "[len(C) for (title,C) in Lakers_col]"
      ],
      "id": "395aac81",
      "execution_count": 16,
      "outputs": [
        {
          "output_type": "execute_result",
          "data": {
            "text/plain": [
              "[21,\n",
              " 21,\n",
              " 21,\n",
              " 21,\n",
              " 21,\n",
              " 21,\n",
              " 21,\n",
              " 21,\n",
              " 21,\n",
              " 21,\n",
              " 21,\n",
              " 21,\n",
              " 21,\n",
              " 21,\n",
              " 21,\n",
              " 21,\n",
              " 21,\n",
              " 21,\n",
              " 21,\n",
              " 21,\n",
              " 21,\n",
              " 21,\n",
              " 21,\n",
              " 21,\n",
              " 21,\n",
              " 21,\n",
              " 21,\n",
              " 21,\n",
              " 21,\n",
              " 21,\n",
              " 21,\n",
              " 21,\n",
              " 21,\n",
              " 21,\n",
              " 21,\n",
              " 21,\n",
              " 21,\n",
              " 21,\n",
              " 21,\n",
              " 21,\n",
              " 21]"
            ]
          },
          "metadata": {},
          "execution_count": 16
        }
      ]
    },
    {
      "cell_type": "code",
      "metadata": {
        "id": "e31ef01c"
      },
      "source": [
        "## converting the data into a pandas Dataframe\n",
        "\n",
        "Lakers_Dict={title:column for (title,column) in Lakers_col}\n",
        "Lakers_df=pd.DataFrame(Lakers_Dict)"
      ],
      "id": "e31ef01c",
      "execution_count": 17,
      "outputs": []
    },
    {
      "cell_type": "markdown",
      "metadata": {
        "id": "f58eb8ba"
      },
      "source": [
        "## 2020-21 Los Angeles Lakers Game Log Table"
      ],
      "id": "f58eb8ba"
    },
    {
      "cell_type": "code",
      "metadata": {
        "colab": {
          "base_uri": "https://localhost:8080/",
          "height": 0
        },
        "id": "ca3db379",
        "outputId": "6d7917fe-27a2-4d4b-825a-fd7b69675183"
      },
      "source": [
        "pd.set_option('display.max_columns', None)\n",
        "Lakers_df.head()"
      ],
      "id": "ca3db379",
      "execution_count": 18,
      "outputs": [
        {
          "output_type": "execute_result",
          "data": {
            "text/html": [
              "<div>\n",
              "<style scoped>\n",
              "    .dataframe tbody tr th:only-of-type {\n",
              "        vertical-align: middle;\n",
              "    }\n",
              "\n",
              "    .dataframe tbody tr th {\n",
              "        vertical-align: top;\n",
              "    }\n",
              "\n",
              "    .dataframe thead th {\n",
              "        text-align: right;\n",
              "    }\n",
              "</style>\n",
              "<table border=\"1\" class=\"dataframe\">\n",
              "  <thead>\n",
              "    <tr style=\"text-align: right;\">\n",
              "      <th></th>\n",
              "      <th>Rk</th>\n",
              "      <th>G</th>\n",
              "      <th>Date</th>\n",
              "      <th></th>\n",
              "      <th>Opp</th>\n",
              "      <th>W/L</th>\n",
              "      <th>Tm</th>\n",
              "      <th>FG</th>\n",
              "      <th>FGA</th>\n",
              "      <th>FG%</th>\n",
              "      <th>3P</th>\n",
              "      <th>3PA</th>\n",
              "      <th>3P%</th>\n",
              "      <th>FT</th>\n",
              "      <th>FTA</th>\n",
              "      <th>FT%</th>\n",
              "      <th>ORB</th>\n",
              "      <th>TRB</th>\n",
              "      <th>AST</th>\n",
              "      <th>STL</th>\n",
              "      <th>BLK</th>\n",
              "      <th>TOV</th>\n",
              "      <th>PF</th>\n",
              "    </tr>\n",
              "  </thead>\n",
              "  <tbody>\n",
              "    <tr>\n",
              "      <th>0</th>\n",
              "      <td>Rk</td>\n",
              "      <td>G</td>\n",
              "      <td>Date</td>\n",
              "      <td></td>\n",
              "      <td>Opp</td>\n",
              "      <td>W/L</td>\n",
              "      <td>Tm</td>\n",
              "      <td>FG</td>\n",
              "      <td>FGA</td>\n",
              "      <td>FG%</td>\n",
              "      <td>3P</td>\n",
              "      <td>3PA</td>\n",
              "      <td>3P%</td>\n",
              "      <td>FT</td>\n",
              "      <td>FTA</td>\n",
              "      <td>FT%</td>\n",
              "      <td>ORB</td>\n",
              "      <td>TRB</td>\n",
              "      <td>AST</td>\n",
              "      <td>STL</td>\n",
              "      <td>BLK</td>\n",
              "      <td>TOV</td>\n",
              "      <td>PF</td>\n",
              "    </tr>\n",
              "    <tr>\n",
              "      <th>1</th>\n",
              "      <td>1</td>\n",
              "      <td>1</td>\n",
              "      <td>2020-12-22</td>\n",
              "      <td></td>\n",
              "      <td>116</td>\n",
              "      <td>L</td>\n",
              "      <td>109</td>\n",
              "      <td>44</td>\n",
              "      <td>93</td>\n",
              "      <td>.473</td>\n",
              "      <td>14</td>\n",
              "      <td>40</td>\n",
              "      <td>.350</td>\n",
              "      <td>14</td>\n",
              "      <td>19</td>\n",
              "      <td>.737</td>\n",
              "      <td>11</td>\n",
              "      <td>40</td>\n",
              "      <td>22</td>\n",
              "      <td>10</td>\n",
              "      <td>3</td>\n",
              "      <td>16</td>\n",
              "      <td>29</td>\n",
              "    </tr>\n",
              "    <tr>\n",
              "      <th>2</th>\n",
              "      <td>2</td>\n",
              "      <td>2</td>\n",
              "      <td>2020-12-25</td>\n",
              "      <td></td>\n",
              "      <td>115</td>\n",
              "      <td>W</td>\n",
              "      <td>138</td>\n",
              "      <td>41</td>\n",
              "      <td>83</td>\n",
              "      <td>.494</td>\n",
              "      <td>13</td>\n",
              "      <td>32</td>\n",
              "      <td>.406</td>\n",
              "      <td>20</td>\n",
              "      <td>26</td>\n",
              "      <td>.769</td>\n",
              "      <td>3</td>\n",
              "      <td>27</td>\n",
              "      <td>20</td>\n",
              "      <td>13</td>\n",
              "      <td>3</td>\n",
              "      <td>9</td>\n",
              "      <td>22</td>\n",
              "    </tr>\n",
              "    <tr>\n",
              "      <th>3</th>\n",
              "      <td>3</td>\n",
              "      <td>3</td>\n",
              "      <td>2020-12-27</td>\n",
              "      <td></td>\n",
              "      <td>91</td>\n",
              "      <td>W</td>\n",
              "      <td>127</td>\n",
              "      <td>38</td>\n",
              "      <td>103</td>\n",
              "      <td>.369</td>\n",
              "      <td>6</td>\n",
              "      <td>35</td>\n",
              "      <td>.171</td>\n",
              "      <td>9</td>\n",
              "      <td>14</td>\n",
              "      <td>.643</td>\n",
              "      <td>17</td>\n",
              "      <td>48</td>\n",
              "      <td>24</td>\n",
              "      <td>11</td>\n",
              "      <td>6</td>\n",
              "      <td>17</td>\n",
              "      <td>24</td>\n",
              "    </tr>\n",
              "    <tr>\n",
              "      <th>4</th>\n",
              "      <td>4</td>\n",
              "      <td>4</td>\n",
              "      <td>2020-12-28</td>\n",
              "      <td></td>\n",
              "      <td>115</td>\n",
              "      <td>L</td>\n",
              "      <td>107</td>\n",
              "      <td>43</td>\n",
              "      <td>92</td>\n",
              "      <td>.467</td>\n",
              "      <td>16</td>\n",
              "      <td>46</td>\n",
              "      <td>.348</td>\n",
              "      <td>13</td>\n",
              "      <td>15</td>\n",
              "      <td>.867</td>\n",
              "      <td>7</td>\n",
              "      <td>45</td>\n",
              "      <td>27</td>\n",
              "      <td>9</td>\n",
              "      <td>6</td>\n",
              "      <td>9</td>\n",
              "      <td>16</td>\n",
              "    </tr>\n",
              "  </tbody>\n",
              "</table>\n",
              "</div>"
            ],
            "text/plain": [
              "   Rk  G        Date     Opp  W/L   Tm  FG  FGA   FG%  3P  3PA   3P%  FT  FTA  \\\n",
              "0  Rk  G        Date     Opp  W/L   Tm  FG  FGA   FG%  3P  3PA   3P%  FT  FTA   \n",
              "1   1  1  2020-12-22     116    L  109  44   93  .473  14   40  .350  14   19   \n",
              "2   2  2  2020-12-25     115    W  138  41   83  .494  13   32  .406  20   26   \n",
              "3   3  3  2020-12-27      91    W  127  38  103  .369   6   35  .171   9   14   \n",
              "4   4  4  2020-12-28     115    L  107  43   92  .467  16   46  .348  13   15   \n",
              "\n",
              "    FT%  ORB  TRB  AST  STL  BLK  TOV  PF  \n",
              "0   FT%  ORB  TRB  AST  STL  BLK  TOV  PF  \n",
              "1  .737   11   40   22   10    3   16  29  \n",
              "2  .769    3   27   20   13    3    9  22  \n",
              "3  .643   17   48   24   11    6   17  24  \n",
              "4  .867    7   45   27    9    6    9  16  "
            ]
          },
          "metadata": {},
          "execution_count": 18
        }
      ]
    },
    {
      "cell_type": "code",
      "metadata": {
        "colab": {
          "base_uri": "https://localhost:8080/",
          "height": 0
        },
        "id": "145e2e95",
        "outputId": "8b102e06-06a6-4adf-eeef-c4a1bfa73451"
      },
      "source": [
        "Lakers_df.tail()"
      ],
      "id": "145e2e95",
      "execution_count": 19,
      "outputs": [
        {
          "output_type": "execute_result",
          "data": {
            "text/html": [
              "<div>\n",
              "<style scoped>\n",
              "    .dataframe tbody tr th:only-of-type {\n",
              "        vertical-align: middle;\n",
              "    }\n",
              "\n",
              "    .dataframe tbody tr th {\n",
              "        vertical-align: top;\n",
              "    }\n",
              "\n",
              "    .dataframe thead th {\n",
              "        text-align: right;\n",
              "    }\n",
              "</style>\n",
              "<table border=\"1\" class=\"dataframe\">\n",
              "  <thead>\n",
              "    <tr style=\"text-align: right;\">\n",
              "      <th></th>\n",
              "      <th>Rk</th>\n",
              "      <th>G</th>\n",
              "      <th>Date</th>\n",
              "      <th></th>\n",
              "      <th>Opp</th>\n",
              "      <th>W/L</th>\n",
              "      <th>Tm</th>\n",
              "      <th>FG</th>\n",
              "      <th>FGA</th>\n",
              "      <th>FG%</th>\n",
              "      <th>3P</th>\n",
              "      <th>3PA</th>\n",
              "      <th>3P%</th>\n",
              "      <th>FT</th>\n",
              "      <th>FTA</th>\n",
              "      <th>FT%</th>\n",
              "      <th>ORB</th>\n",
              "      <th>TRB</th>\n",
              "      <th>AST</th>\n",
              "      <th>STL</th>\n",
              "      <th>BLK</th>\n",
              "      <th>TOV</th>\n",
              "      <th>PF</th>\n",
              "    </tr>\n",
              "  </thead>\n",
              "  <tbody>\n",
              "    <tr>\n",
              "      <th>16</th>\n",
              "      <td>16</td>\n",
              "      <td>16</td>\n",
              "      <td>2021-01-21</td>\n",
              "      <td></td>\n",
              "      <td>106</td>\n",
              "      <td>W</td>\n",
              "      <td>113</td>\n",
              "      <td>44</td>\n",
              "      <td>87</td>\n",
              "      <td>.506</td>\n",
              "      <td>9</td>\n",
              "      <td>28</td>\n",
              "      <td>.321</td>\n",
              "      <td>9</td>\n",
              "      <td>12</td>\n",
              "      <td>.750</td>\n",
              "      <td>5</td>\n",
              "      <td>46</td>\n",
              "      <td>27</td>\n",
              "      <td>5</td>\n",
              "      <td>5</td>\n",
              "      <td>14</td>\n",
              "      <td>18</td>\n",
              "    </tr>\n",
              "    <tr>\n",
              "      <th>17</th>\n",
              "      <td>17</td>\n",
              "      <td>17</td>\n",
              "      <td>2021-01-23</td>\n",
              "      <td></td>\n",
              "      <td>90</td>\n",
              "      <td>W</td>\n",
              "      <td>101</td>\n",
              "      <td>33</td>\n",
              "      <td>84</td>\n",
              "      <td>.393</td>\n",
              "      <td>8</td>\n",
              "      <td>25</td>\n",
              "      <td>.320</td>\n",
              "      <td>16</td>\n",
              "      <td>22</td>\n",
              "      <td>.727</td>\n",
              "      <td>10</td>\n",
              "      <td>45</td>\n",
              "      <td>18</td>\n",
              "      <td>8</td>\n",
              "      <td>1</td>\n",
              "      <td>18</td>\n",
              "      <td>28</td>\n",
              "    </tr>\n",
              "    <tr>\n",
              "      <th>18</th>\n",
              "      <td>18</td>\n",
              "      <td>18</td>\n",
              "      <td>2021-01-25</td>\n",
              "      <td></td>\n",
              "      <td>108</td>\n",
              "      <td>W</td>\n",
              "      <td>115</td>\n",
              "      <td>40</td>\n",
              "      <td>86</td>\n",
              "      <td>.465</td>\n",
              "      <td>9</td>\n",
              "      <td>21</td>\n",
              "      <td>.429</td>\n",
              "      <td>19</td>\n",
              "      <td>22</td>\n",
              "      <td>.864</td>\n",
              "      <td>15</td>\n",
              "      <td>44</td>\n",
              "      <td>19</td>\n",
              "      <td>8</td>\n",
              "      <td>3</td>\n",
              "      <td>17</td>\n",
              "      <td>25</td>\n",
              "    </tr>\n",
              "    <tr>\n",
              "      <th>19</th>\n",
              "      <td>19</td>\n",
              "      <td>19</td>\n",
              "      <td>2021-01-27</td>\n",
              "      <td></td>\n",
              "      <td>107</td>\n",
              "      <td>L</td>\n",
              "      <td>106</td>\n",
              "      <td>41</td>\n",
              "      <td>85</td>\n",
              "      <td>.482</td>\n",
              "      <td>9</td>\n",
              "      <td>25</td>\n",
              "      <td>.360</td>\n",
              "      <td>16</td>\n",
              "      <td>26</td>\n",
              "      <td>.615</td>\n",
              "      <td>7</td>\n",
              "      <td>38</td>\n",
              "      <td>24</td>\n",
              "      <td>10</td>\n",
              "      <td>7</td>\n",
              "      <td>11</td>\n",
              "      <td>24</td>\n",
              "    </tr>\n",
              "    <tr>\n",
              "      <th>20</th>\n",
              "      <td>20</td>\n",
              "      <td>20</td>\n",
              "      <td>2021-01-28</td>\n",
              "      <td></td>\n",
              "      <td>107</td>\n",
              "      <td>L</td>\n",
              "      <td>92</td>\n",
              "      <td>40</td>\n",
              "      <td>87</td>\n",
              "      <td>.460</td>\n",
              "      <td>14</td>\n",
              "      <td>36</td>\n",
              "      <td>.389</td>\n",
              "      <td>13</td>\n",
              "      <td>13</td>\n",
              "      <td>1.000</td>\n",
              "      <td>5</td>\n",
              "      <td>38</td>\n",
              "      <td>27</td>\n",
              "      <td>4</td>\n",
              "      <td>2</td>\n",
              "      <td>8</td>\n",
              "      <td>18</td>\n",
              "    </tr>\n",
              "  </tbody>\n",
              "</table>\n",
              "</div>"
            ],
            "text/plain": [
              "    Rk   G        Date    Opp W/L   Tm  FG FGA   FG%  3P 3PA   3P%  FT FTA  \\\n",
              "16  16  16  2021-01-21    106   W  113  44  87  .506   9  28  .321   9  12   \n",
              "17  17  17  2021-01-23     90   W  101  33  84  .393   8  25  .320  16  22   \n",
              "18  18  18  2021-01-25    108   W  115  40  86  .465   9  21  .429  19  22   \n",
              "19  19  19  2021-01-27    107   L  106  41  85  .482   9  25  .360  16  26   \n",
              "20  20  20  2021-01-28    107   L   92  40  87  .460  14  36  .389  13  13   \n",
              "\n",
              "      FT% ORB TRB AST STL BLK TOV  PF  \n",
              "16   .750   5  46  27   5   5  14  18  \n",
              "17   .727  10  45  18   8   1  18  28  \n",
              "18   .864  15  44  19   8   3  17  25  \n",
              "19   .615   7  38  24  10   7  11  24  \n",
              "20  1.000   5  38  27   4   2   8  18  "
            ]
          },
          "metadata": {},
          "execution_count": 19
        }
      ]
    },
    {
      "cell_type": "markdown",
      "metadata": {
        "id": "2bc8bdb2"
      },
      "source": [
        "## 2020-21 Boston Celtics NBA Team"
      ],
      "id": "2bc8bdb2"
    },
    {
      "cell_type": "code",
      "metadata": {
        "id": "f5f97886"
      },
      "source": [
        "Celtics_page_content = Celtics_response.text\n",
        "Celtics_doc = lh.fromstring(Celtics_response.content)\n",
        "Celtics_tr_elements = Celtics_doc.xpath('//tr')"
      ],
      "id": "f5f97886",
      "execution_count": 20,
      "outputs": []
    },
    {
      "cell_type": "code",
      "metadata": {
        "colab": {
          "base_uri": "https://localhost:8080/"
        },
        "id": "f432b414",
        "outputId": "a706a83a-839b-4cd6-9d43-44573b26c172"
      },
      "source": [
        "Celtics_tr_elements = Celtics_doc.xpath('//tr')\n",
        "Celtics_col=[]\n",
        "i=0\n",
        "\n",
        "for t in Celtics_tr_elements[1]:\n",
        "    i+=1\n",
        "    name=t.text_content()\n",
        "    print('%d:\"%s\"'%(i,name))\n",
        "    Celtics_col.append((name,[])),"
      ],
      "id": "f432b414",
      "execution_count": 21,
      "outputs": [
        {
          "output_type": "stream",
          "name": "stdout",
          "text": [
            "1:\"Rk\"\n",
            "2:\"G\"\n",
            "3:\"Date\"\n",
            "4:\" \"\n",
            "5:\"Opp\"\n",
            "6:\"W/L\"\n",
            "7:\"Tm\"\n",
            "8:\"Opp\"\n",
            "9:\"FG\"\n",
            "10:\"FGA\"\n",
            "11:\"FG%\"\n",
            "12:\"3P\"\n",
            "13:\"3PA\"\n",
            "14:\"3P%\"\n",
            "15:\"FT\"\n",
            "16:\"FTA\"\n",
            "17:\"FT%\"\n",
            "18:\"ORB\"\n",
            "19:\"TRB\"\n",
            "20:\"AST\"\n",
            "21:\"STL\"\n",
            "22:\"BLK\"\n",
            "23:\"TOV\"\n",
            "24:\"PF\"\n",
            "25:\" \"\n",
            "26:\"FG\"\n",
            "27:\"FGA\"\n",
            "28:\"FG%\"\n",
            "29:\"3P\"\n",
            "30:\"3PA\"\n",
            "31:\"3P%\"\n",
            "32:\"FT\"\n",
            "33:\"FTA\"\n",
            "34:\"FT%\"\n",
            "35:\"ORB\"\n",
            "36:\"TRB\"\n",
            "37:\"AST\"\n",
            "38:\"STL\"\n",
            "39:\"BLK\"\n",
            "40:\"TOV\"\n",
            "41:\"PF\"\n"
          ]
        }
      ]
    },
    {
      "cell_type": "code",
      "metadata": {
        "colab": {
          "base_uri": "https://localhost:8080/"
        },
        "id": "dc64a38e",
        "outputId": "895f1bb4-f5d2-44e1-9c7d-af978a97c98d"
      },
      "source": [
        "[len(T) for T in Celtics_tr_elements[:20]]"
      ],
      "id": "dc64a38e",
      "execution_count": 22,
      "outputs": [
        {
          "output_type": "execute_result",
          "data": {
            "text/plain": [
              "[6, 41, 41, 41, 41, 41, 41, 41, 41, 41, 41, 41, 41, 41, 41, 41, 41, 41, 41, 41]"
            ]
          },
          "metadata": {},
          "execution_count": 22
        }
      ]
    },
    {
      "cell_type": "markdown",
      "metadata": {
        "id": "714da22e"
      },
      "source": [
        "## Accessing 2020-21 Boston Celtics Game Log Table"
      ],
      "id": "714da22e"
    },
    {
      "cell_type": "code",
      "metadata": {
        "id": "8a4d2850"
      },
      "source": [
        "for j in range(1,len(Celtics_tr_elements)):\n",
        "    T = Celtics_tr_elements[j]\n",
        "    \n",
        "    if len(T)!=41:\n",
        "        break\n",
        "    \n",
        "    i=0\n",
        "    \n",
        "    for t in T.iterchildren():\n",
        "        Celtics_data=t.text_content() \n",
        "\n",
        "        if i>0:\n",
        "        \n",
        "            try:\n",
        "                Celtics_data=int(Celtics_data)\n",
        "            except:\n",
        "                pass\n",
        "        \n",
        "        Celtics_col[i][1].append(Celtics_data)\n",
        "        \n",
        "        i+=1"
      ],
      "id": "8a4d2850",
      "execution_count": 23,
      "outputs": []
    },
    {
      "cell_type": "code",
      "metadata": {
        "colab": {
          "base_uri": "https://localhost:8080/"
        },
        "id": "19ba0043",
        "outputId": "8ec9cc39-2815-400f-fa73-96a2fe526207"
      },
      "source": [
        "[len(C) for (title,C) in Celtics_col]"
      ],
      "id": "19ba0043",
      "execution_count": 24,
      "outputs": [
        {
          "output_type": "execute_result",
          "data": {
            "text/plain": [
              "[21,\n",
              " 21,\n",
              " 21,\n",
              " 21,\n",
              " 21,\n",
              " 21,\n",
              " 21,\n",
              " 21,\n",
              " 21,\n",
              " 21,\n",
              " 21,\n",
              " 21,\n",
              " 21,\n",
              " 21,\n",
              " 21,\n",
              " 21,\n",
              " 21,\n",
              " 21,\n",
              " 21,\n",
              " 21,\n",
              " 21,\n",
              " 21,\n",
              " 21,\n",
              " 21,\n",
              " 21,\n",
              " 21,\n",
              " 21,\n",
              " 21,\n",
              " 21,\n",
              " 21,\n",
              " 21,\n",
              " 21,\n",
              " 21,\n",
              " 21,\n",
              " 21,\n",
              " 21,\n",
              " 21,\n",
              " 21,\n",
              " 21,\n",
              " 21,\n",
              " 21]"
            ]
          },
          "metadata": {},
          "execution_count": 24
        }
      ]
    },
    {
      "cell_type": "code",
      "metadata": {
        "id": "aba52621"
      },
      "source": [
        "Celtics_Dict={title:column for (title,column) in Celtics_col}\n",
        "Celtics_df=pd.DataFrame(Celtics_Dict)"
      ],
      "id": "aba52621",
      "execution_count": 25,
      "outputs": []
    },
    {
      "cell_type": "markdown",
      "metadata": {
        "id": "a9628ac6"
      },
      "source": [
        "## 2020-21 Boston Celtics Game Log Table"
      ],
      "id": "a9628ac6"
    },
    {
      "cell_type": "code",
      "metadata": {
        "colab": {
          "base_uri": "https://localhost:8080/",
          "height": 0
        },
        "id": "2bd0f3a3",
        "outputId": "6999700e-50b5-4969-f0d0-e42061360124"
      },
      "source": [
        "Celtics_df.head()"
      ],
      "id": "2bd0f3a3",
      "execution_count": 26,
      "outputs": [
        {
          "output_type": "execute_result",
          "data": {
            "text/html": [
              "<div>\n",
              "<style scoped>\n",
              "    .dataframe tbody tr th:only-of-type {\n",
              "        vertical-align: middle;\n",
              "    }\n",
              "\n",
              "    .dataframe tbody tr th {\n",
              "        vertical-align: top;\n",
              "    }\n",
              "\n",
              "    .dataframe thead th {\n",
              "        text-align: right;\n",
              "    }\n",
              "</style>\n",
              "<table border=\"1\" class=\"dataframe\">\n",
              "  <thead>\n",
              "    <tr style=\"text-align: right;\">\n",
              "      <th></th>\n",
              "      <th>Rk</th>\n",
              "      <th>G</th>\n",
              "      <th>Date</th>\n",
              "      <th></th>\n",
              "      <th>Opp</th>\n",
              "      <th>W/L</th>\n",
              "      <th>Tm</th>\n",
              "      <th>FG</th>\n",
              "      <th>FGA</th>\n",
              "      <th>FG%</th>\n",
              "      <th>3P</th>\n",
              "      <th>3PA</th>\n",
              "      <th>3P%</th>\n",
              "      <th>FT</th>\n",
              "      <th>FTA</th>\n",
              "      <th>FT%</th>\n",
              "      <th>ORB</th>\n",
              "      <th>TRB</th>\n",
              "      <th>AST</th>\n",
              "      <th>STL</th>\n",
              "      <th>BLK</th>\n",
              "      <th>TOV</th>\n",
              "      <th>PF</th>\n",
              "    </tr>\n",
              "  </thead>\n",
              "  <tbody>\n",
              "    <tr>\n",
              "      <th>0</th>\n",
              "      <td>Rk</td>\n",
              "      <td>G</td>\n",
              "      <td>Date</td>\n",
              "      <td></td>\n",
              "      <td>Opp</td>\n",
              "      <td>W/L</td>\n",
              "      <td>Tm</td>\n",
              "      <td>FG</td>\n",
              "      <td>FGA</td>\n",
              "      <td>FG%</td>\n",
              "      <td>3P</td>\n",
              "      <td>3PA</td>\n",
              "      <td>3P%</td>\n",
              "      <td>FT</td>\n",
              "      <td>FTA</td>\n",
              "      <td>FT%</td>\n",
              "      <td>ORB</td>\n",
              "      <td>TRB</td>\n",
              "      <td>AST</td>\n",
              "      <td>STL</td>\n",
              "      <td>BLK</td>\n",
              "      <td>TOV</td>\n",
              "      <td>PF</td>\n",
              "    </tr>\n",
              "    <tr>\n",
              "      <th>1</th>\n",
              "      <td>1</td>\n",
              "      <td>1</td>\n",
              "      <td>2020-12-23</td>\n",
              "      <td></td>\n",
              "      <td>121</td>\n",
              "      <td>W</td>\n",
              "      <td>122</td>\n",
              "      <td>46</td>\n",
              "      <td>90</td>\n",
              "      <td>.511</td>\n",
              "      <td>14</td>\n",
              "      <td>35</td>\n",
              "      <td>.400</td>\n",
              "      <td>15</td>\n",
              "      <td>18</td>\n",
              "      <td>.833</td>\n",
              "      <td>11</td>\n",
              "      <td>52</td>\n",
              "      <td>19</td>\n",
              "      <td>4</td>\n",
              "      <td>6</td>\n",
              "      <td>16</td>\n",
              "      <td>20</td>\n",
              "    </tr>\n",
              "    <tr>\n",
              "      <th>2</th>\n",
              "      <td>2</td>\n",
              "      <td>2</td>\n",
              "      <td>2020-12-25</td>\n",
              "      <td></td>\n",
              "      <td>123</td>\n",
              "      <td>L</td>\n",
              "      <td>95</td>\n",
              "      <td>41</td>\n",
              "      <td>76</td>\n",
              "      <td>.539</td>\n",
              "      <td>15</td>\n",
              "      <td>29</td>\n",
              "      <td>.517</td>\n",
              "      <td>26</td>\n",
              "      <td>31</td>\n",
              "      <td>.839</td>\n",
              "      <td>9</td>\n",
              "      <td>43</td>\n",
              "      <td>21</td>\n",
              "      <td>5</td>\n",
              "      <td>10</td>\n",
              "      <td>15</td>\n",
              "      <td>22</td>\n",
              "    </tr>\n",
              "    <tr>\n",
              "      <th>3</th>\n",
              "      <td>3</td>\n",
              "      <td>3</td>\n",
              "      <td>2020-12-27</td>\n",
              "      <td></td>\n",
              "      <td>108</td>\n",
              "      <td>L</td>\n",
              "      <td>107</td>\n",
              "      <td>45</td>\n",
              "      <td>88</td>\n",
              "      <td>.511</td>\n",
              "      <td>7</td>\n",
              "      <td>26</td>\n",
              "      <td>.269</td>\n",
              "      <td>11</td>\n",
              "      <td>15</td>\n",
              "      <td>.733</td>\n",
              "      <td>8</td>\n",
              "      <td>37</td>\n",
              "      <td>23</td>\n",
              "      <td>11</td>\n",
              "      <td>7</td>\n",
              "      <td>16</td>\n",
              "      <td>20</td>\n",
              "    </tr>\n",
              "    <tr>\n",
              "      <th>4</th>\n",
              "      <td>4</td>\n",
              "      <td>4</td>\n",
              "      <td>2020-12-29</td>\n",
              "      <td></td>\n",
              "      <td>111</td>\n",
              "      <td>W</td>\n",
              "      <td>116</td>\n",
              "      <td>43</td>\n",
              "      <td>84</td>\n",
              "      <td>.512</td>\n",
              "      <td>12</td>\n",
              "      <td>33</td>\n",
              "      <td>.364</td>\n",
              "      <td>13</td>\n",
              "      <td>16</td>\n",
              "      <td>.813</td>\n",
              "      <td>4</td>\n",
              "      <td>36</td>\n",
              "      <td>27</td>\n",
              "      <td>9</td>\n",
              "      <td>5</td>\n",
              "      <td>14</td>\n",
              "      <td>25</td>\n",
              "    </tr>\n",
              "  </tbody>\n",
              "</table>\n",
              "</div>"
            ],
            "text/plain": [
              "   Rk  G        Date     Opp  W/L   Tm  FG  FGA   FG%  3P  3PA   3P%  FT  FTA  \\\n",
              "0  Rk  G        Date     Opp  W/L   Tm  FG  FGA   FG%  3P  3PA   3P%  FT  FTA   \n",
              "1   1  1  2020-12-23     121    W  122  46   90  .511  14   35  .400  15   18   \n",
              "2   2  2  2020-12-25     123    L   95  41   76  .539  15   29  .517  26   31   \n",
              "3   3  3  2020-12-27     108    L  107  45   88  .511   7   26  .269  11   15   \n",
              "4   4  4  2020-12-29     111    W  116  43   84  .512  12   33  .364  13   16   \n",
              "\n",
              "    FT%  ORB  TRB  AST  STL  BLK  TOV  PF  \n",
              "0   FT%  ORB  TRB  AST  STL  BLK  TOV  PF  \n",
              "1  .833   11   52   19    4    6   16  20  \n",
              "2  .839    9   43   21    5   10   15  22  \n",
              "3  .733    8   37   23   11    7   16  20  \n",
              "4  .813    4   36   27    9    5   14  25  "
            ]
          },
          "metadata": {},
          "execution_count": 26
        }
      ]
    },
    {
      "cell_type": "code",
      "metadata": {
        "colab": {
          "base_uri": "https://localhost:8080/",
          "height": 0
        },
        "id": "bcc3e964",
        "outputId": "a81843c0-80d0-4b2d-96fa-ee97545603fa"
      },
      "source": [
        "Celtics_df.tail()"
      ],
      "id": "bcc3e964",
      "execution_count": 27,
      "outputs": [
        {
          "output_type": "execute_result",
          "data": {
            "text/html": [
              "<div>\n",
              "<style scoped>\n",
              "    .dataframe tbody tr th:only-of-type {\n",
              "        vertical-align: middle;\n",
              "    }\n",
              "\n",
              "    .dataframe tbody tr th {\n",
              "        vertical-align: top;\n",
              "    }\n",
              "\n",
              "    .dataframe thead th {\n",
              "        text-align: right;\n",
              "    }\n",
              "</style>\n",
              "<table border=\"1\" class=\"dataframe\">\n",
              "  <thead>\n",
              "    <tr style=\"text-align: right;\">\n",
              "      <th></th>\n",
              "      <th>Rk</th>\n",
              "      <th>G</th>\n",
              "      <th>Date</th>\n",
              "      <th></th>\n",
              "      <th>Opp</th>\n",
              "      <th>W/L</th>\n",
              "      <th>Tm</th>\n",
              "      <th>FG</th>\n",
              "      <th>FGA</th>\n",
              "      <th>FG%</th>\n",
              "      <th>3P</th>\n",
              "      <th>3PA</th>\n",
              "      <th>3P%</th>\n",
              "      <th>FT</th>\n",
              "      <th>FTA</th>\n",
              "      <th>FT%</th>\n",
              "      <th>ORB</th>\n",
              "      <th>TRB</th>\n",
              "      <th>AST</th>\n",
              "      <th>STL</th>\n",
              "      <th>BLK</th>\n",
              "      <th>TOV</th>\n",
              "      <th>PF</th>\n",
              "    </tr>\n",
              "  </thead>\n",
              "  <tbody>\n",
              "    <tr>\n",
              "      <th>16</th>\n",
              "      <td>16</td>\n",
              "      <td>16</td>\n",
              "      <td>2021-01-25</td>\n",
              "      <td></td>\n",
              "      <td>103</td>\n",
              "      <td>W</td>\n",
              "      <td>119</td>\n",
              "      <td>41</td>\n",
              "      <td>88</td>\n",
              "      <td>.466</td>\n",
              "      <td>17</td>\n",
              "      <td>39</td>\n",
              "      <td>.436</td>\n",
              "      <td>4</td>\n",
              "      <td>10</td>\n",
              "      <td>.400</td>\n",
              "      <td>9</td>\n",
              "      <td>41</td>\n",
              "      <td>28</td>\n",
              "      <td>4</td>\n",
              "      <td>7</td>\n",
              "      <td>18</td>\n",
              "      <td>16</td>\n",
              "    </tr>\n",
              "    <tr>\n",
              "      <th>17</th>\n",
              "      <td>17</td>\n",
              "      <td>17</td>\n",
              "      <td>2021-01-27</td>\n",
              "      <td></td>\n",
              "      <td>110</td>\n",
              "      <td>L</td>\n",
              "      <td>106</td>\n",
              "      <td>46</td>\n",
              "      <td>82</td>\n",
              "      <td>.561</td>\n",
              "      <td>8</td>\n",
              "      <td>28</td>\n",
              "      <td>.286</td>\n",
              "      <td>10</td>\n",
              "      <td>16</td>\n",
              "      <td>.625</td>\n",
              "      <td>9</td>\n",
              "      <td>46</td>\n",
              "      <td>22</td>\n",
              "      <td>5</td>\n",
              "      <td>4</td>\n",
              "      <td>19</td>\n",
              "      <td>16</td>\n",
              "    </tr>\n",
              "    <tr>\n",
              "      <th>18</th>\n",
              "      <td>18</td>\n",
              "      <td>18</td>\n",
              "      <td>2021-01-30</td>\n",
              "      <td></td>\n",
              "      <td>96</td>\n",
              "      <td>L</td>\n",
              "      <td>95</td>\n",
              "      <td>37</td>\n",
              "      <td>84</td>\n",
              "      <td>.440</td>\n",
              "      <td>9</td>\n",
              "      <td>31</td>\n",
              "      <td>.290</td>\n",
              "      <td>13</td>\n",
              "      <td>19</td>\n",
              "      <td>.684</td>\n",
              "      <td>13</td>\n",
              "      <td>45</td>\n",
              "      <td>20</td>\n",
              "      <td>8</td>\n",
              "      <td>4</td>\n",
              "      <td>14</td>\n",
              "      <td>15</td>\n",
              "    </tr>\n",
              "    <tr>\n",
              "      <th>19</th>\n",
              "      <td>19</td>\n",
              "      <td>19</td>\n",
              "      <td>2021-02-02</td>\n",
              "      <td></td>\n",
              "      <td>107</td>\n",
              "      <td>W</td>\n",
              "      <td>111</td>\n",
              "      <td>38</td>\n",
              "      <td>83</td>\n",
              "      <td>.458</td>\n",
              "      <td>15</td>\n",
              "      <td>37</td>\n",
              "      <td>.405</td>\n",
              "      <td>16</td>\n",
              "      <td>23</td>\n",
              "      <td>.696</td>\n",
              "      <td>6</td>\n",
              "      <td>36</td>\n",
              "      <td>30</td>\n",
              "      <td>9</td>\n",
              "      <td>4</td>\n",
              "      <td>11</td>\n",
              "      <td>23</td>\n",
              "    </tr>\n",
              "    <tr>\n",
              "      <th>20</th>\n",
              "      <td>20</td>\n",
              "      <td>20</td>\n",
              "      <td>2021-02-03</td>\n",
              "      <td></td>\n",
              "      <td>116</td>\n",
              "      <td>L</td>\n",
              "      <td>111</td>\n",
              "      <td>42</td>\n",
              "      <td>92</td>\n",
              "      <td>.457</td>\n",
              "      <td>13</td>\n",
              "      <td>37</td>\n",
              "      <td>.351</td>\n",
              "      <td>19</td>\n",
              "      <td>23</td>\n",
              "      <td>.826</td>\n",
              "      <td>12</td>\n",
              "      <td>44</td>\n",
              "      <td>23</td>\n",
              "      <td>7</td>\n",
              "      <td>2</td>\n",
              "      <td>10</td>\n",
              "      <td>19</td>\n",
              "    </tr>\n",
              "  </tbody>\n",
              "</table>\n",
              "</div>"
            ],
            "text/plain": [
              "    Rk   G        Date    Opp W/L   Tm  FG FGA   FG%  3P 3PA   3P%  FT FTA  \\\n",
              "16  16  16  2021-01-25    103   W  119  41  88  .466  17  39  .436   4  10   \n",
              "17  17  17  2021-01-27    110   L  106  46  82  .561   8  28  .286  10  16   \n",
              "18  18  18  2021-01-30     96   L   95  37  84  .440   9  31  .290  13  19   \n",
              "19  19  19  2021-02-02    107   W  111  38  83  .458  15  37  .405  16  23   \n",
              "20  20  20  2021-02-03    116   L  111  42  92  .457  13  37  .351  19  23   \n",
              "\n",
              "     FT% ORB TRB AST STL BLK TOV  PF  \n",
              "16  .400   9  41  28   4   7  18  16  \n",
              "17  .625   9  46  22   5   4  19  16  \n",
              "18  .684  13  45  20   8   4  14  15  \n",
              "19  .696   6  36  30   9   4  11  23  \n",
              "20  .826  12  44  23   7   2  10  19  "
            ]
          },
          "metadata": {},
          "execution_count": 27
        }
      ]
    },
    {
      "cell_type": "markdown",
      "metadata": {
        "id": "b936fe07"
      },
      "source": [
        "## 2020-21 Miami Heat NBA Team"
      ],
      "id": "b936fe07"
    },
    {
      "cell_type": "code",
      "metadata": {
        "id": "72527de8"
      },
      "source": [
        "Miami_heat_page_content = Miami_heat_response.text\n",
        "Miami_heat_doc = lh.fromstring(Miami_heat_response.content)\n",
        "Miami_heat_tr_elements = Miami_heat_doc.xpath('//tr')"
      ],
      "id": "72527de8",
      "execution_count": 28,
      "outputs": []
    },
    {
      "cell_type": "code",
      "metadata": {
        "colab": {
          "base_uri": "https://localhost:8080/"
        },
        "id": "7e72378c",
        "outputId": "4310ed5b-9cfe-4f87-e5f7-55cab3f42ef4"
      },
      "source": [
        "[len(T) for T in Miami_heat_tr_elements[:20]]"
      ],
      "id": "7e72378c",
      "execution_count": 29,
      "outputs": [
        {
          "output_type": "execute_result",
          "data": {
            "text/plain": [
              "[6, 41, 41, 41, 41, 41, 41, 41, 41, 41, 41, 41, 41, 41, 41, 41, 41, 41, 41, 41]"
            ]
          },
          "metadata": {},
          "execution_count": 29
        }
      ]
    },
    {
      "cell_type": "code",
      "metadata": {
        "colab": {
          "base_uri": "https://localhost:8080/"
        },
        "id": "7fafa2a5",
        "outputId": "273cb64d-0580-4623-ebcc-929b47d8c012"
      },
      "source": [
        "Miami_heat_tr_elements = Miami_heat_doc.xpath('//tr')\n",
        "Miami_heat_col=[]\n",
        "i=0\n",
        "\n",
        "for t in Miami_heat_tr_elements[1]:\n",
        "    i+=1\n",
        "    name=t.text_content()\n",
        "    print('%d:\"%s\"'%(i,name))\n",
        "    Miami_heat_col.append((name,[])),"
      ],
      "id": "7fafa2a5",
      "execution_count": 30,
      "outputs": [
        {
          "output_type": "stream",
          "name": "stdout",
          "text": [
            "1:\"Rk\"\n",
            "2:\"G\"\n",
            "3:\"Date\"\n",
            "4:\" \"\n",
            "5:\"Opp\"\n",
            "6:\"W/L\"\n",
            "7:\"Tm\"\n",
            "8:\"Opp\"\n",
            "9:\"FG\"\n",
            "10:\"FGA\"\n",
            "11:\"FG%\"\n",
            "12:\"3P\"\n",
            "13:\"3PA\"\n",
            "14:\"3P%\"\n",
            "15:\"FT\"\n",
            "16:\"FTA\"\n",
            "17:\"FT%\"\n",
            "18:\"ORB\"\n",
            "19:\"TRB\"\n",
            "20:\"AST\"\n",
            "21:\"STL\"\n",
            "22:\"BLK\"\n",
            "23:\"TOV\"\n",
            "24:\"PF\"\n",
            "25:\" \"\n",
            "26:\"FG\"\n",
            "27:\"FGA\"\n",
            "28:\"FG%\"\n",
            "29:\"3P\"\n",
            "30:\"3PA\"\n",
            "31:\"3P%\"\n",
            "32:\"FT\"\n",
            "33:\"FTA\"\n",
            "34:\"FT%\"\n",
            "35:\"ORB\"\n",
            "36:\"TRB\"\n",
            "37:\"AST\"\n",
            "38:\"STL\"\n",
            "39:\"BLK\"\n",
            "40:\"TOV\"\n",
            "41:\"PF\"\n"
          ]
        }
      ]
    },
    {
      "cell_type": "markdown",
      "metadata": {
        "id": "b594a5cf"
      },
      "source": [
        "## Accessing 2020-21 Miami Heat Game Log Table"
      ],
      "id": "b594a5cf"
    },
    {
      "cell_type": "code",
      "metadata": {
        "id": "72772e32"
      },
      "source": [
        "for j in range(1,len(Miami_heat_tr_elements)):\n",
        "    T = Miami_heat_tr_elements[j]\n",
        "    \n",
        "    if len(T)!=41:\n",
        "        break\n",
        "    \n",
        "    i=0\n",
        "    \n",
        "    for t in T.iterchildren():\n",
        "        Miami_heat_data=t.text_content() \n",
        "\n",
        "        if i>0:\n",
        "        \n",
        "            try:\n",
        "                Miami_heat_data=int(Miami_heat_data)\n",
        "            except:\n",
        "                pass\n",
        "        \n",
        "        Miami_heat_col[i][1].append(Miami_heat_data)\n",
        "        \n",
        "        i+=1"
      ],
      "id": "72772e32",
      "execution_count": 31,
      "outputs": []
    },
    {
      "cell_type": "code",
      "metadata": {
        "colab": {
          "base_uri": "https://localhost:8080/"
        },
        "id": "d32b908a",
        "outputId": "07e8d390-39a4-4556-d81b-5919a28dd5d6"
      },
      "source": [
        "[len(C) for (title,C) in Miami_heat_col]"
      ],
      "id": "d32b908a",
      "execution_count": 32,
      "outputs": [
        {
          "output_type": "execute_result",
          "data": {
            "text/plain": [
              "[21,\n",
              " 21,\n",
              " 21,\n",
              " 21,\n",
              " 21,\n",
              " 21,\n",
              " 21,\n",
              " 21,\n",
              " 21,\n",
              " 21,\n",
              " 21,\n",
              " 21,\n",
              " 21,\n",
              " 21,\n",
              " 21,\n",
              " 21,\n",
              " 21,\n",
              " 21,\n",
              " 21,\n",
              " 21,\n",
              " 21,\n",
              " 21,\n",
              " 21,\n",
              " 21,\n",
              " 21,\n",
              " 21,\n",
              " 21,\n",
              " 21,\n",
              " 21,\n",
              " 21,\n",
              " 21,\n",
              " 21,\n",
              " 21,\n",
              " 21,\n",
              " 21,\n",
              " 21,\n",
              " 21,\n",
              " 21,\n",
              " 21,\n",
              " 21,\n",
              " 21]"
            ]
          },
          "metadata": {},
          "execution_count": 32
        }
      ]
    },
    {
      "cell_type": "code",
      "metadata": {
        "id": "86c95096"
      },
      "source": [
        "Miami_heat_Dict={title:column for (title,column) in Miami_heat_col}\n",
        "Miami_heat_df=pd.DataFrame(Miami_heat_Dict)"
      ],
      "id": "86c95096",
      "execution_count": 33,
      "outputs": []
    },
    {
      "cell_type": "markdown",
      "metadata": {
        "id": "0576226f"
      },
      "source": [
        "## 2020-21 Miami Heat Game Log Table"
      ],
      "id": "0576226f"
    },
    {
      "cell_type": "code",
      "metadata": {
        "colab": {
          "base_uri": "https://localhost:8080/",
          "height": 0
        },
        "id": "e98975c0",
        "outputId": "afa2508a-e531-415f-dc13-9461cbd7e073"
      },
      "source": [
        "Miami_heat_df.head()"
      ],
      "id": "e98975c0",
      "execution_count": 34,
      "outputs": [
        {
          "output_type": "execute_result",
          "data": {
            "text/html": [
              "<div>\n",
              "<style scoped>\n",
              "    .dataframe tbody tr th:only-of-type {\n",
              "        vertical-align: middle;\n",
              "    }\n",
              "\n",
              "    .dataframe tbody tr th {\n",
              "        vertical-align: top;\n",
              "    }\n",
              "\n",
              "    .dataframe thead th {\n",
              "        text-align: right;\n",
              "    }\n",
              "</style>\n",
              "<table border=\"1\" class=\"dataframe\">\n",
              "  <thead>\n",
              "    <tr style=\"text-align: right;\">\n",
              "      <th></th>\n",
              "      <th>Rk</th>\n",
              "      <th>G</th>\n",
              "      <th>Date</th>\n",
              "      <th></th>\n",
              "      <th>Opp</th>\n",
              "      <th>W/L</th>\n",
              "      <th>Tm</th>\n",
              "      <th>FG</th>\n",
              "      <th>FGA</th>\n",
              "      <th>FG%</th>\n",
              "      <th>3P</th>\n",
              "      <th>3PA</th>\n",
              "      <th>3P%</th>\n",
              "      <th>FT</th>\n",
              "      <th>FTA</th>\n",
              "      <th>FT%</th>\n",
              "      <th>ORB</th>\n",
              "      <th>TRB</th>\n",
              "      <th>AST</th>\n",
              "      <th>STL</th>\n",
              "      <th>BLK</th>\n",
              "      <th>TOV</th>\n",
              "      <th>PF</th>\n",
              "    </tr>\n",
              "  </thead>\n",
              "  <tbody>\n",
              "    <tr>\n",
              "      <th>0</th>\n",
              "      <td>Rk</td>\n",
              "      <td>G</td>\n",
              "      <td>Date</td>\n",
              "      <td></td>\n",
              "      <td>Opp</td>\n",
              "      <td>W/L</td>\n",
              "      <td>Tm</td>\n",
              "      <td>FG</td>\n",
              "      <td>FGA</td>\n",
              "      <td>FG%</td>\n",
              "      <td>3P</td>\n",
              "      <td>3PA</td>\n",
              "      <td>3P%</td>\n",
              "      <td>FT</td>\n",
              "      <td>FTA</td>\n",
              "      <td>FT%</td>\n",
              "      <td>ORB</td>\n",
              "      <td>TRB</td>\n",
              "      <td>AST</td>\n",
              "      <td>STL</td>\n",
              "      <td>BLK</td>\n",
              "      <td>TOV</td>\n",
              "      <td>PF</td>\n",
              "    </tr>\n",
              "    <tr>\n",
              "      <th>1</th>\n",
              "      <td>1</td>\n",
              "      <td>1</td>\n",
              "      <td>2020-12-23</td>\n",
              "      <td></td>\n",
              "      <td>113</td>\n",
              "      <td>L</td>\n",
              "      <td>107</td>\n",
              "      <td>42</td>\n",
              "      <td>88</td>\n",
              "      <td>.477</td>\n",
              "      <td>10</td>\n",
              "      <td>28</td>\n",
              "      <td>.357</td>\n",
              "      <td>19</td>\n",
              "      <td>30</td>\n",
              "      <td>.633</td>\n",
              "      <td>11</td>\n",
              "      <td>41</td>\n",
              "      <td>23</td>\n",
              "      <td>15</td>\n",
              "      <td>3</td>\n",
              "      <td>17</td>\n",
              "      <td>19</td>\n",
              "    </tr>\n",
              "    <tr>\n",
              "      <th>2</th>\n",
              "      <td>2</td>\n",
              "      <td>2</td>\n",
              "      <td>2020-12-25</td>\n",
              "      <td></td>\n",
              "      <td>98</td>\n",
              "      <td>W</td>\n",
              "      <td>111</td>\n",
              "      <td>31</td>\n",
              "      <td>78</td>\n",
              "      <td>.397</td>\n",
              "      <td>10</td>\n",
              "      <td>35</td>\n",
              "      <td>.286</td>\n",
              "      <td>26</td>\n",
              "      <td>33</td>\n",
              "      <td>.788</td>\n",
              "      <td>11</td>\n",
              "      <td>41</td>\n",
              "      <td>18</td>\n",
              "      <td>8</td>\n",
              "      <td>2</td>\n",
              "      <td>19</td>\n",
              "      <td>20</td>\n",
              "    </tr>\n",
              "    <tr>\n",
              "      <th>3</th>\n",
              "      <td>3</td>\n",
              "      <td>3</td>\n",
              "      <td>2020-12-29</td>\n",
              "      <td></td>\n",
              "      <td>144</td>\n",
              "      <td>L</td>\n",
              "      <td>97</td>\n",
              "      <td>51</td>\n",
              "      <td>92</td>\n",
              "      <td>.554</td>\n",
              "      <td>29</td>\n",
              "      <td>51</td>\n",
              "      <td>.569</td>\n",
              "      <td>13</td>\n",
              "      <td>15</td>\n",
              "      <td>.867</td>\n",
              "      <td>10</td>\n",
              "      <td>45</td>\n",
              "      <td>32</td>\n",
              "      <td>14</td>\n",
              "      <td>2</td>\n",
              "      <td>17</td>\n",
              "      <td>22</td>\n",
              "    </tr>\n",
              "    <tr>\n",
              "      <th>4</th>\n",
              "      <td>4</td>\n",
              "      <td>4</td>\n",
              "      <td>2020-12-30</td>\n",
              "      <td></td>\n",
              "      <td>108</td>\n",
              "      <td>W</td>\n",
              "      <td>119</td>\n",
              "      <td>40</td>\n",
              "      <td>102</td>\n",
              "      <td>.392</td>\n",
              "      <td>16</td>\n",
              "      <td>41</td>\n",
              "      <td>.390</td>\n",
              "      <td>12</td>\n",
              "      <td>13</td>\n",
              "      <td>.923</td>\n",
              "      <td>16</td>\n",
              "      <td>47</td>\n",
              "      <td>26</td>\n",
              "      <td>14</td>\n",
              "      <td>6</td>\n",
              "      <td>13</td>\n",
              "      <td>25</td>\n",
              "    </tr>\n",
              "  </tbody>\n",
              "</table>\n",
              "</div>"
            ],
            "text/plain": [
              "   Rk  G        Date     Opp  W/L   Tm  FG  FGA   FG%  3P  3PA   3P%  FT  FTA  \\\n",
              "0  Rk  G        Date     Opp  W/L   Tm  FG  FGA   FG%  3P  3PA   3P%  FT  FTA   \n",
              "1   1  1  2020-12-23     113    L  107  42   88  .477  10   28  .357  19   30   \n",
              "2   2  2  2020-12-25      98    W  111  31   78  .397  10   35  .286  26   33   \n",
              "3   3  3  2020-12-29     144    L   97  51   92  .554  29   51  .569  13   15   \n",
              "4   4  4  2020-12-30     108    W  119  40  102  .392  16   41  .390  12   13   \n",
              "\n",
              "    FT%  ORB  TRB  AST  STL  BLK  TOV  PF  \n",
              "0   FT%  ORB  TRB  AST  STL  BLK  TOV  PF  \n",
              "1  .633   11   41   23   15    3   17  19  \n",
              "2  .788   11   41   18    8    2   19  20  \n",
              "3  .867   10   45   32   14    2   17  22  \n",
              "4  .923   16   47   26   14    6   13  25  "
            ]
          },
          "metadata": {},
          "execution_count": 34
        }
      ]
    },
    {
      "cell_type": "code",
      "metadata": {
        "colab": {
          "base_uri": "https://localhost:8080/",
          "height": 0
        },
        "id": "48889bd2",
        "outputId": "532088a9-8227-4c98-9682-13779f58d3f8"
      },
      "source": [
        "pd.set_option('display.max_columns', None)\n",
        "Miami_heat_df.tail()"
      ],
      "id": "48889bd2",
      "execution_count": 35,
      "outputs": [
        {
          "output_type": "execute_result",
          "data": {
            "text/html": [
              "<div>\n",
              "<style scoped>\n",
              "    .dataframe tbody tr th:only-of-type {\n",
              "        vertical-align: middle;\n",
              "    }\n",
              "\n",
              "    .dataframe tbody tr th {\n",
              "        vertical-align: top;\n",
              "    }\n",
              "\n",
              "    .dataframe thead th {\n",
              "        text-align: right;\n",
              "    }\n",
              "</style>\n",
              "<table border=\"1\" class=\"dataframe\">\n",
              "  <thead>\n",
              "    <tr style=\"text-align: right;\">\n",
              "      <th></th>\n",
              "      <th>Rk</th>\n",
              "      <th>G</th>\n",
              "      <th>Date</th>\n",
              "      <th></th>\n",
              "      <th>Opp</th>\n",
              "      <th>W/L</th>\n",
              "      <th>Tm</th>\n",
              "      <th>FG</th>\n",
              "      <th>FGA</th>\n",
              "      <th>FG%</th>\n",
              "      <th>3P</th>\n",
              "      <th>3PA</th>\n",
              "      <th>3P%</th>\n",
              "      <th>FT</th>\n",
              "      <th>FTA</th>\n",
              "      <th>FT%</th>\n",
              "      <th>ORB</th>\n",
              "      <th>TRB</th>\n",
              "      <th>AST</th>\n",
              "      <th>STL</th>\n",
              "      <th>BLK</th>\n",
              "      <th>TOV</th>\n",
              "      <th>PF</th>\n",
              "    </tr>\n",
              "  </thead>\n",
              "  <tbody>\n",
              "    <tr>\n",
              "      <th>16</th>\n",
              "      <td>16</td>\n",
              "      <td>16</td>\n",
              "      <td>2021-01-25</td>\n",
              "      <td></td>\n",
              "      <td>98</td>\n",
              "      <td>L</td>\n",
              "      <td>85</td>\n",
              "      <td>34</td>\n",
              "      <td>85</td>\n",
              "      <td>.400</td>\n",
              "      <td>11</td>\n",
              "      <td>38</td>\n",
              "      <td>.289</td>\n",
              "      <td>19</td>\n",
              "      <td>22</td>\n",
              "      <td>.864</td>\n",
              "      <td>6</td>\n",
              "      <td>49</td>\n",
              "      <td>24</td>\n",
              "      <td>6</td>\n",
              "      <td>5</td>\n",
              "      <td>7</td>\n",
              "      <td>18</td>\n",
              "    </tr>\n",
              "    <tr>\n",
              "      <th>17</th>\n",
              "      <td>17</td>\n",
              "      <td>17</td>\n",
              "      <td>2021-01-27</td>\n",
              "      <td></td>\n",
              "      <td>109</td>\n",
              "      <td>L</td>\n",
              "      <td>82</td>\n",
              "      <td>42</td>\n",
              "      <td>92</td>\n",
              "      <td>.457</td>\n",
              "      <td>14</td>\n",
              "      <td>43</td>\n",
              "      <td>.326</td>\n",
              "      <td>11</td>\n",
              "      <td>11</td>\n",
              "      <td>1.000</td>\n",
              "      <td>12</td>\n",
              "      <td>49</td>\n",
              "      <td>29</td>\n",
              "      <td>14</td>\n",
              "      <td>4</td>\n",
              "      <td>13</td>\n",
              "      <td>12</td>\n",
              "    </tr>\n",
              "    <tr>\n",
              "      <th>18</th>\n",
              "      <td>18</td>\n",
              "      <td>18</td>\n",
              "      <td>2021-01-28</td>\n",
              "      <td></td>\n",
              "      <td>109</td>\n",
              "      <td>L</td>\n",
              "      <td>105</td>\n",
              "      <td>36</td>\n",
              "      <td>87</td>\n",
              "      <td>.414</td>\n",
              "      <td>17</td>\n",
              "      <td>42</td>\n",
              "      <td>.405</td>\n",
              "      <td>20</td>\n",
              "      <td>22</td>\n",
              "      <td>.909</td>\n",
              "      <td>13</td>\n",
              "      <td>55</td>\n",
              "      <td>22</td>\n",
              "      <td>11</td>\n",
              "      <td>4</td>\n",
              "      <td>12</td>\n",
              "      <td>20</td>\n",
              "    </tr>\n",
              "    <tr>\n",
              "      <th>19</th>\n",
              "      <td>19</td>\n",
              "      <td>19</td>\n",
              "      <td>2021-01-30</td>\n",
              "      <td></td>\n",
              "      <td>104</td>\n",
              "      <td>W</td>\n",
              "      <td>105</td>\n",
              "      <td>41</td>\n",
              "      <td>85</td>\n",
              "      <td>.482</td>\n",
              "      <td>17</td>\n",
              "      <td>45</td>\n",
              "      <td>.378</td>\n",
              "      <td>5</td>\n",
              "      <td>11</td>\n",
              "      <td>.455</td>\n",
              "      <td>12</td>\n",
              "      <td>41</td>\n",
              "      <td>22</td>\n",
              "      <td>12</td>\n",
              "      <td>3</td>\n",
              "      <td>17</td>\n",
              "      <td>21</td>\n",
              "    </tr>\n",
              "    <tr>\n",
              "      <th>20</th>\n",
              "      <td>20</td>\n",
              "      <td>20</td>\n",
              "      <td>2021-02-01</td>\n",
              "      <td></td>\n",
              "      <td>129</td>\n",
              "      <td>L</td>\n",
              "      <td>121</td>\n",
              "      <td>43</td>\n",
              "      <td>95</td>\n",
              "      <td>.453</td>\n",
              "      <td>21</td>\n",
              "      <td>41</td>\n",
              "      <td>.512</td>\n",
              "      <td>22</td>\n",
              "      <td>26</td>\n",
              "      <td>.846</td>\n",
              "      <td>13</td>\n",
              "      <td>44</td>\n",
              "      <td>31</td>\n",
              "      <td>6</td>\n",
              "      <td>4</td>\n",
              "      <td>11</td>\n",
              "      <td>22</td>\n",
              "    </tr>\n",
              "  </tbody>\n",
              "</table>\n",
              "</div>"
            ],
            "text/plain": [
              "    Rk   G        Date    Opp W/L   Tm  FG FGA   FG%  3P 3PA   3P%  FT FTA  \\\n",
              "16  16  16  2021-01-25     98   L   85  34  85  .400  11  38  .289  19  22   \n",
              "17  17  17  2021-01-27    109   L   82  42  92  .457  14  43  .326  11  11   \n",
              "18  18  18  2021-01-28    109   L  105  36  87  .414  17  42  .405  20  22   \n",
              "19  19  19  2021-01-30    104   W  105  41  85  .482  17  45  .378   5  11   \n",
              "20  20  20  2021-02-01    129   L  121  43  95  .453  21  41  .512  22  26   \n",
              "\n",
              "      FT% ORB TRB AST STL BLK TOV  PF  \n",
              "16   .864   6  49  24   6   5   7  18  \n",
              "17  1.000  12  49  29  14   4  13  12  \n",
              "18   .909  13  55  22  11   4  12  20  \n",
              "19   .455  12  41  22  12   3  17  21  \n",
              "20   .846  13  44  31   6   4  11  22  "
            ]
          },
          "metadata": {},
          "execution_count": 35
        }
      ]
    },
    {
      "cell_type": "markdown",
      "metadata": {
        "id": "f07ef3ed"
      },
      "source": [
        "## 2020-21 Los Angeles Lakers Team Performance Analysis Indicators"
      ],
      "id": "f07ef3ed"
    },
    {
      "cell_type": "code",
      "metadata": {
        "colab": {
          "base_uri": "https://localhost:8080/"
        },
        "id": "d7b39f7c",
        "outputId": "d5cc755f-5bb8-46be-e346-682a7ee758d0"
      },
      "source": [
        "## Total number of Won Over 21 games for 2020-21 season by Los Angeles Lakers team\n",
        "lakers_wins = len(Lakers_df[Lakers_df[\"W/L\"] == \"W\"])\n",
        "lakers_wins"
      ],
      "id": "d7b39f7c",
      "execution_count": 36,
      "outputs": [
        {
          "output_type": "execute_result",
          "data": {
            "text/plain": [
              "14"
            ]
          },
          "metadata": {},
          "execution_count": 36
        }
      ]
    },
    {
      "cell_type": "code",
      "metadata": {
        "colab": {
          "base_uri": "https://localhost:8080/"
        },
        "id": "3bb0bb08",
        "outputId": "a9cf515e-731a-43f2-db99-6250e6577758"
      },
      "source": [
        "## Total number of lose Over 21 games for 2020-21 season by Los Angeles Lakers team\n",
        "Lakers_lose = len(Lakers_df[Lakers_df[\"W/L\"] == \"L\"])\n",
        "Lakers_lose"
      ],
      "id": "3bb0bb08",
      "execution_count": 37,
      "outputs": [
        {
          "output_type": "execute_result",
          "data": {
            "text/plain": [
              "6"
            ]
          },
          "metadata": {},
          "execution_count": 37
        }
      ]
    },
    {
      "cell_type": "code",
      "metadata": {
        "colab": {
          "base_uri": "https://localhost:8080/"
        },
        "id": "8b5673b4",
        "outputId": "a648e2f1-4b79-4719-9410-e467457a87c5"
      },
      "source": [
        "## Total number of points scored Over 21 games for 2020-21 season by Los Angeles Lakers team\n",
        "Lakers_total_pts = pd.to_numeric(Lakers_df.Tm, errors='coerce').fillna(0).astype(int).sum()\n",
        "Lakers_total_pts"
      ],
      "id": "8b5673b4",
      "execution_count": 38,
      "outputs": [
        {
          "output_type": "execute_result",
          "data": {
            "text/plain": [
              "2256"
            ]
          },
          "metadata": {},
          "execution_count": 38
        }
      ]
    },
    {
      "cell_type": "code",
      "metadata": {
        "colab": {
          "base_uri": "https://localhost:8080/"
        },
        "id": "5aba8b3d",
        "outputId": "2c99c64b-1dfd-4706-8cad-aafcd9ed6a22"
      },
      "source": [
        "## Total number of games played for 2020-21 season by Los Angeles Lakers team\n",
        "Lakers_total_game = len(Lakers_df['G'].value_counts())\n",
        "Lakers_total_game"
      ],
      "id": "5aba8b3d",
      "execution_count": 39,
      "outputs": [
        {
          "output_type": "execute_result",
          "data": {
            "text/plain": [
              "21"
            ]
          },
          "metadata": {},
          "execution_count": 39
        }
      ]
    },
    {
      "cell_type": "code",
      "metadata": {
        "colab": {
          "base_uri": "https://localhost:8080/",
          "height": 0
        },
        "id": "a4bc6629",
        "outputId": "a8ef211b-56f3-49ad-ecd2-ca04f141a698"
      },
      "source": [
        "## Field goal percentage Over 21 games for 2020-21 season by Los Angeles Lakers team\n",
        "Lakers_Field_goal = pd.to_numeric(Lakers_df['FG'], errors='coerce').fillna(0).astype(int).sum()\n",
        "Lakers_Field_goal_Amp = pd.to_numeric(Lakers_df['FGA'], errors='coerce').fillna(0).astype(int).sum()\n",
        "Lakers_Field_goal_percentage = f\"{(Lakers_Field_goal/Lakers_Field_goal_Amp) * 100} %\" \n",
        "Lakers_Field_goal_percentage"
      ],
      "id": "a4bc6629",
      "execution_count": 40,
      "outputs": [
        {
          "output_type": "execute_result",
          "data": {
            "application/vnd.google.colaboratory.intrinsic+json": {
              "type": "string"
            },
            "text/plain": [
              "'44.924284913067865 %'"
            ]
          },
          "metadata": {},
          "execution_count": 40
        }
      ]
    },
    {
      "cell_type": "code",
      "metadata": {
        "colab": {
          "base_uri": "https://localhost:8080/",
          "height": 0
        },
        "id": "08acd626",
        "outputId": "263f7c47-39ee-43b9-c98c-6460bbcc06f1"
      },
      "source": [
        "## 2 points Field goal percentage Over 21 games for 2020-21 season by Los Angeles Lakers team\n",
        "## 3 points Field goals calculation\n",
        "Lakers_3P_Field_goal = pd.to_numeric(Lakers_df['3P'], errors='coerce').fillna(0).astype(int).sum()\n",
        "Lakers_3PA_Field_goal = pd.to_numeric(Lakers_df['3PA'], errors='coerce').fillna(0).astype(int).sum()\n",
        "## Free throws Field goals calculation\n",
        "Lakers_FT_Field_goal = pd.to_numeric(Lakers_df['FT'], errors='coerce').fillna(0).astype(int).sum()\n",
        "Lakers_FTA_Field_goal = pd.to_numeric(Lakers_df['FTA'], errors='coerce').fillna(0).astype(int).sum()\n",
        "## 2 points Field goals calculation\n",
        "Lakers_2P_Field_goal = Lakers_Field_goal - Lakers_FT_Field_goal - Lakers_3P_Field_goal\n",
        "Lakers_2PA_Field_goal = Lakers_Field_goal_Amp - Lakers_FTA_Field_goal - Lakers_3PA_Field_goal\n",
        "Lakers_2P_Field_goal_percentage = f\"{(Lakers_2P_Field_goal/Lakers_2PA_Field_goal) * 100} %\"\n",
        "Lakers_2P_Field_goal_percentage"
      ],
      "id": "08acd626",
      "execution_count": 41,
      "outputs": [
        {
          "output_type": "execute_result",
          "data": {
            "application/vnd.google.colaboratory.intrinsic+json": {
              "type": "string"
            },
            "text/plain": [
              "'39.33588761174968 %'"
            ]
          },
          "metadata": {},
          "execution_count": 41
        }
      ]
    },
    {
      "cell_type": "code",
      "metadata": {
        "colab": {
          "base_uri": "https://localhost:8080/",
          "height": 0
        },
        "id": "4dfa6a80",
        "outputId": "41ca9042-2468-4cc9-a466-07a71906e511"
      },
      "source": [
        "## Team Total Turnover percentage Over 21 games for 2020-21 season by Los Angeles Lakers team\n",
        "Lakers_TOV = pd.to_numeric(Lakers_df['TOV'], errors='coerce').fillna(0).astype(int).sum()\n",
        "Lakers_Total_TOV = f\"{(Lakers_TOV/(Lakers_TOV + 0.44 + Lakers_Field_goal + Lakers_Field_goal_Amp)) * 100} %\"\n",
        "Lakers_Total_TOV"
      ],
      "id": "4dfa6a80",
      "execution_count": 42,
      "outputs": [
        {
          "output_type": "execute_result",
          "data": {
            "application/vnd.google.colaboratory.intrinsic+json": {
              "type": "string"
            },
            "text/plain": [
              "'9.204479982012618 %'"
            ]
          },
          "metadata": {},
          "execution_count": 42
        }
      ]
    },
    {
      "cell_type": "code",
      "metadata": {
        "colab": {
          "base_uri": "https://localhost:8080/"
        },
        "id": "2baaba71",
        "outputId": "e2e01e48-6a56-4499-c5f6-abcbe096692e"
      },
      "source": [
        "## Team win-lose percentage Over 21 game for 2020-21 season by Los Angeles Lakers team\n",
        "Lakers_Win_lose_percentage = (lakers_wins/Lakers_total_game) * 100\n",
        "Lakers_Win_lose_percentage "
      ],
      "id": "2baaba71",
      "execution_count": 43,
      "outputs": [
        {
          "output_type": "execute_result",
          "data": {
            "text/plain": [
              "66.66666666666666"
            ]
          },
          "metadata": {},
          "execution_count": 43
        }
      ]
    },
    {
      "cell_type": "code",
      "metadata": {
        "colab": {
          "base_uri": "https://localhost:8080/"
        },
        "id": "139c62b0",
        "outputId": "3dea0120-171a-4fcd-fab8-ff3935b25613"
      },
      "source": [
        "## Average points per game Over 21 games for 2020-21 season by Los Angeles Lakers team\n",
        "Lakers_Average_points_per_game = Lakers_total_pts/Lakers_total_game\n",
        "Lakers_Average_points_per_game "
      ],
      "id": "139c62b0",
      "execution_count": 44,
      "outputs": [
        {
          "output_type": "execute_result",
          "data": {
            "text/plain": [
              "107.42857142857143"
            ]
          },
          "metadata": {},
          "execution_count": 44
        }
      ]
    },
    {
      "cell_type": "code",
      "metadata": {
        "colab": {
          "base_uri": "https://localhost:8080/"
        },
        "id": "9cb3d5df",
        "outputId": "abb87d36-2c57-462f-d353-9c7e5f532f8d"
      },
      "source": [
        "## Average Turnovers per Game Over 21 games for 2020-21 season by Los Angeles Lakers team\n",
        "Lakers_Average_Turnovers_per_Game = Lakers_TOV/Lakers_total_game\n",
        "Lakers_Average_Turnovers_per_Game"
      ],
      "id": "9cb3d5df",
      "execution_count": 45,
      "outputs": [
        {
          "output_type": "execute_result",
          "data": {
            "text/plain": [
              "12.476190476190476"
            ]
          },
          "metadata": {},
          "execution_count": 45
        }
      ]
    },
    {
      "cell_type": "code",
      "metadata": {
        "colab": {
          "base_uri": "https://localhost:8080/"
        },
        "id": "756b8b7f",
        "outputId": "26bcfbd6-d2d1-4729-a547-5e0ba7d351ae"
      },
      "source": [
        "## Assist to Turnovers per Game Over 21 games for 2020-21 season by Los Angeles Lakers team\n",
        "Lakers_Assist = pd.to_numeric(Lakers_df['AST'], errors='coerce').fillna(0).astype(int).sum()\n",
        "Lakers_Assist_to_TOV = Lakers_Assist/Lakers_TOV\n",
        "Lakers_Assist_to_TOV"
      ],
      "id": "756b8b7f",
      "execution_count": 46,
      "outputs": [
        {
          "output_type": "execute_result",
          "data": {
            "text/plain": [
              "1.8244274809160306"
            ]
          },
          "metadata": {},
          "execution_count": 46
        }
      ]
    },
    {
      "cell_type": "code",
      "metadata": {
        "colab": {
          "base_uri": "https://localhost:8080/"
        },
        "id": "50d8e350",
        "outputId": "d6a1b693-0530-4045-c655-2d74a2c60e63"
      },
      "source": [
        "## Defensive Efficiency Over 21 games for 2020-21 season by Los Angeles Lakers team\n",
        "Lakers_offensive_rebound = pd.to_numeric(Lakers_df['ORB'], errors='coerce').fillna(0).astype(int).sum()\n",
        "Lakers_total_opponent_pts = pd.to_numeric(Lakers_df['Opp'], errors='coerce').fillna(0).astype(int).sum()\n",
        "Lakers_total_possessions = Lakers_Field_goal_Amp - Lakers_offensive_rebound + Lakers_TOV + (0.4*Lakers_FTA_Field_goal)\n",
        "Lakers_Defensive_Efficiency = Lakers_total_opponent_pts/Lakers_total_possessions\n",
        "Lakers_Defensive_Efficiency"
      ],
      "id": "50d8e350",
      "execution_count": 47,
      "outputs": [
        {
          "output_type": "execute_result",
          "data": {
            "text/plain": [
              "1.0415630903848065"
            ]
          },
          "metadata": {},
          "execution_count": 47
        }
      ]
    },
    {
      "cell_type": "markdown",
      "metadata": {
        "id": "9aaa0e65"
      },
      "source": [
        "## 2020-21 Boston Celtics Team Performance Analysis Indicators"
      ],
      "id": "9aaa0e65"
    },
    {
      "cell_type": "code",
      "metadata": {
        "colab": {
          "base_uri": "https://localhost:8080/"
        },
        "id": "fc1a201a",
        "outputId": "92f70f04-651c-4425-fd57-fce94aa0ad55"
      },
      "source": [
        "## Total number of Won Over 21 games for 2020-21 season by Boston Celtics team\n",
        "Celtic_wins = len(Celtics_df[Celtics_df[\"W/L\"] == \"W\"])\n",
        "Celtic_wins"
      ],
      "id": "fc1a201a",
      "execution_count": 48,
      "outputs": [
        {
          "output_type": "execute_result",
          "data": {
            "text/plain": [
              "11"
            ]
          },
          "metadata": {},
          "execution_count": 48
        }
      ]
    },
    {
      "cell_type": "code",
      "metadata": {
        "colab": {
          "base_uri": "https://localhost:8080/"
        },
        "id": "17d0b4e0",
        "outputId": "cf4c1bc6-0b76-4315-fdcc-732e67f13527"
      },
      "source": [
        "## Total number of lose Over 21 games for 2020-21 season by Boston Celtics team\n",
        "Celtic_lose = len(Celtics_df[Celtics_df[\"W/L\"] == \"L\"])\n",
        "Celtic_lose"
      ],
      "id": "17d0b4e0",
      "execution_count": 49,
      "outputs": [
        {
          "output_type": "execute_result",
          "data": {
            "text/plain": [
              "9"
            ]
          },
          "metadata": {},
          "execution_count": 49
        }
      ]
    },
    {
      "cell_type": "code",
      "metadata": {
        "colab": {
          "base_uri": "https://localhost:8080/"
        },
        "id": "325aa807",
        "outputId": "bd7c4310-cf1d-4e00-a29c-8db93413a5de"
      },
      "source": [
        "## Total number of points scored Over 21 games for 2020-21 season by Boston Celtics team\n",
        "Celtic_total_pts = pd.to_numeric(Celtics_df.Tm, errors='coerce').fillna(0).astype(int).sum()\n",
        "Celtic_total_pts"
      ],
      "id": "325aa807",
      "execution_count": 50,
      "outputs": [
        {
          "output_type": "execute_result",
          "data": {
            "text/plain": [
              "2231"
            ]
          },
          "metadata": {},
          "execution_count": 50
        }
      ]
    },
    {
      "cell_type": "code",
      "metadata": {
        "colab": {
          "base_uri": "https://localhost:8080/"
        },
        "id": "a5ec850f",
        "outputId": "a4b75c40-8542-4d10-f139-041f4fcffcac"
      },
      "source": [
        "## Total number of games played for 2020-21 season by Boston Celtics team\n",
        "Celtic_total_game = len(Celtics_df['G'].value_counts())\n",
        "Celtic_total_game"
      ],
      "id": "a5ec850f",
      "execution_count": 51,
      "outputs": [
        {
          "output_type": "execute_result",
          "data": {
            "text/plain": [
              "21"
            ]
          },
          "metadata": {},
          "execution_count": 51
        }
      ]
    },
    {
      "cell_type": "code",
      "metadata": {
        "colab": {
          "base_uri": "https://localhost:8080/",
          "height": 0
        },
        "id": "d92dc812",
        "outputId": "84d4d14a-2a30-4b41-833b-1a10fd6984cf"
      },
      "source": [
        "## Field goal percentage Over 21 games for 2020-21 season by Boston Celtics team\n",
        "Celtic_Field_goal = pd.to_numeric(Celtics_df['FG'], errors='coerce').fillna(0).astype(int).sum()\n",
        "Celtic_Field_goal_Amp = pd.to_numeric(Celtics_df['FGA'], errors='coerce').fillna(0).astype(int).sum()\n",
        "Celtic_Field_goal_percentage = f\"{(Celtic_Field_goal/Celtic_Field_goal_Amp) * 100} %\" \n",
        "Celtic_Field_goal_percentage"
      ],
      "id": "d92dc812",
      "execution_count": 52,
      "outputs": [
        {
          "output_type": "execute_result",
          "data": {
            "application/vnd.google.colaboratory.intrinsic+json": {
              "type": "string"
            },
            "text/plain": [
              "'46.69783752191701 %'"
            ]
          },
          "metadata": {},
          "execution_count": 52
        }
      ]
    },
    {
      "cell_type": "code",
      "metadata": {
        "colab": {
          "base_uri": "https://localhost:8080/",
          "height": 0
        },
        "id": "d7c7228a",
        "outputId": "970548ad-df59-45ae-ac52-91cbd5c96c2f"
      },
      "source": [
        "## 2 points Field goal percentage Over 21 games for 2020-21 season by Boston Celtics team\n",
        "## 3 points Field goals calculation\n",
        "Celtic_3P_Field_goal = pd.to_numeric(Celtics_df['3P'], errors='coerce').fillna(0).astype(int).sum()\n",
        "Celtic_3PA_Field_goal = pd.to_numeric(Celtics_df['3PA'], errors='coerce').fillna(0).astype(int).sum()\n",
        "## Free throws Field goals calculation\n",
        "Celtic_FT_Field_goal = pd.to_numeric(Celtics_df['FT'], errors='coerce').fillna(0).astype(int).sum()\n",
        "Celtic_FTA_Field_goal = pd.to_numeric(Celtics_df['FTA'], errors='coerce').fillna(0).astype(int).sum()\n",
        "## 2 points Field goals calculation\n",
        "Celtic_2P_Field_goal = Celtic_Field_goal - Celtic_FT_Field_goal - Celtic_3P_Field_goal\n",
        "Celtic_2PA_Field_goal = Celtic_Field_goal_Amp - Celtic_FTA_Field_goal - Celtic_3PA_Field_goal\n",
        "Celtic_2P_Field_goal_percentage = f\"{(Celtic_2P_Field_goal/Celtic_2PA_Field_goal) * 100} %\"\n",
        "Celtic_2P_Field_goal_percentage"
      ],
      "id": "d7c7228a",
      "execution_count": 53,
      "outputs": [
        {
          "output_type": "execute_result",
          "data": {
            "application/vnd.google.colaboratory.intrinsic+json": {
              "type": "string"
            },
            "text/plain": [
              "'35.00837520938023 %'"
            ]
          },
          "metadata": {},
          "execution_count": 53
        }
      ]
    },
    {
      "cell_type": "code",
      "metadata": {
        "colab": {
          "base_uri": "https://localhost:8080/"
        },
        "id": "b85164e0",
        "outputId": "92ef5b37-cfff-4d47-ae70-db89514e8c70"
      },
      "source": [
        "## Team Total Turnover percentage Over 21 games for 2020-21 season by Boston Celtics team\n",
        "Celtic_TOV = pd.to_numeric(Celtics_df['TOV'], errors='coerce').fillna(0).astype(int).sum()\n",
        "Celtic_Total_TOV = (Celtic_TOV/(Celtic_TOV + 0.44 + Celtic_Field_goal + Celtic_Field_goal_Amp)) * 100 \n",
        "Celtic_Total_TOV"
      ],
      "id": "b85164e0",
      "execution_count": 54,
      "outputs": [
        {
          "output_type": "execute_result",
          "data": {
            "text/plain": [
              "10.355515561840283"
            ]
          },
          "metadata": {},
          "execution_count": 54
        }
      ]
    },
    {
      "cell_type": "code",
      "metadata": {
        "colab": {
          "base_uri": "https://localhost:8080/"
        },
        "id": "e7a836e6",
        "outputId": "9cfbd122-264f-4848-be99-6616e9e62516"
      },
      "source": [
        "## Team win-lose percentage Over 21 game for 2020-21 season by Boston Celtics team\n",
        "Celtic_Win_lose_percentage = (Celtic_wins/Celtic_total_game) * 100\n",
        "Celtic_Win_lose_percentage "
      ],
      "id": "e7a836e6",
      "execution_count": 55,
      "outputs": [
        {
          "output_type": "execute_result",
          "data": {
            "text/plain": [
              "52.38095238095239"
            ]
          },
          "metadata": {},
          "execution_count": 55
        }
      ]
    },
    {
      "cell_type": "code",
      "metadata": {
        "colab": {
          "base_uri": "https://localhost:8080/"
        },
        "id": "f8bfda26",
        "outputId": "27add70e-d69f-434e-b9da-843c5b9f5e36"
      },
      "source": [
        "## Average points per game Over 21 games for 2020-21 season by Boston Celtics team\n",
        "Celtic_Average_points_per_game = Celtic_total_pts/Celtic_total_game\n",
        "Celtic_Average_points_per_game "
      ],
      "id": "f8bfda26",
      "execution_count": 56,
      "outputs": [
        {
          "output_type": "execute_result",
          "data": {
            "text/plain": [
              "106.23809523809524"
            ]
          },
          "metadata": {},
          "execution_count": 56
        }
      ]
    },
    {
      "cell_type": "code",
      "metadata": {
        "colab": {
          "base_uri": "https://localhost:8080/"
        },
        "id": "8dbb501f",
        "outputId": "e7f10a3b-04b4-4228-897b-afdc98dd39bb"
      },
      "source": [
        "## Average Turnovers per Game Over 21 games for 2020-21 season by Boston Celtics team\n",
        "Celtic_Average_Turnovers_per_Game = Celtic_TOV/Celtic_total_game\n",
        "Celtic_Average_Turnovers_per_Game"
      ],
      "id": "8dbb501f",
      "execution_count": 57,
      "outputs": [
        {
          "output_type": "execute_result",
          "data": {
            "text/plain": [
              "13.80952380952381"
            ]
          },
          "metadata": {},
          "execution_count": 57
        }
      ]
    },
    {
      "cell_type": "code",
      "metadata": {
        "colab": {
          "base_uri": "https://localhost:8080/"
        },
        "id": "24529ce4",
        "outputId": "eff6ca06-cdd6-4ce0-d1ff-963b590bde3c"
      },
      "source": [
        "## Assist to Turnovers per Game Over 21 games for 2020-21 season by Boston Celtics team\n",
        "Celtic_Assist = pd.to_numeric(Celtics_df['AST'], errors='coerce').fillna(0).astype(int).sum()\n",
        "Celtic_Assist_to_TOV = Celtic_Assist/Celtic_TOV\n",
        "Celtic_Assist_to_TOV"
      ],
      "id": "24529ce4",
      "execution_count": 58,
      "outputs": [
        {
          "output_type": "execute_result",
          "data": {
            "text/plain": [
              "1.5758620689655172"
            ]
          },
          "metadata": {},
          "execution_count": 58
        }
      ]
    },
    {
      "cell_type": "code",
      "metadata": {
        "colab": {
          "base_uri": "https://localhost:8080/"
        },
        "id": "eca9e791",
        "outputId": "8ca312fc-b4bd-476a-fe9d-cd3d5b575e39"
      },
      "source": [
        "## Defensive Efficiency Over 21 games for 2020-21 season by Boston Celtics team\n",
        "Celtic_offensive_rebound = pd.to_numeric(Celtics_df['ORB'], errors='coerce').fillna(0).astype(int).sum()\n",
        "Celtic_total_opponent_pts = pd.to_numeric(Celtics_df['Opp'], errors='coerce').fillna(0).astype(int).sum()\n",
        "Celtic_total_possessions = Celtic_Field_goal_Amp - Celtic_offensive_rebound + Celtic_TOV + (0.4*Celtic_FTA_Field_goal)\n",
        "Celtic_Defensive_Efficiency = Celtic_total_opponent_pts/Celtic_total_possessions\n",
        "Celtic_Defensive_Efficiency"
      ],
      "id": "eca9e791",
      "execution_count": 59,
      "outputs": [
        {
          "output_type": "execute_result",
          "data": {
            "text/plain": [
              "1.0968518147182675"
            ]
          },
          "metadata": {},
          "execution_count": 59
        }
      ]
    },
    {
      "cell_type": "markdown",
      "metadata": {
        "id": "8f5748e8"
      },
      "source": [
        "## 2020-21 Miami Heat Team Performance Analysis Indicators"
      ],
      "id": "8f5748e8"
    },
    {
      "cell_type": "code",
      "metadata": {
        "colab": {
          "base_uri": "https://localhost:8080/"
        },
        "id": "9853dca8",
        "outputId": "a34ea3e6-a6d5-47dc-fdf1-2bb79517aacd"
      },
      "source": [
        "## Total number of Won Over 21 games for 2020-21 season by Miami Heat team\n",
        "Miami_heat_wins = len(Miami_heat_df[Miami_heat_df[\"W/L\"] == \"W\"])\n",
        "Miami_heat_wins"
      ],
      "id": "9853dca8",
      "execution_count": 60,
      "outputs": [
        {
          "output_type": "execute_result",
          "data": {
            "text/plain": [
              "7"
            ]
          },
          "metadata": {},
          "execution_count": 60
        }
      ]
    },
    {
      "cell_type": "code",
      "metadata": {
        "colab": {
          "base_uri": "https://localhost:8080/"
        },
        "id": "3b281db1",
        "outputId": "b2de67f5-d195-4944-9fc6-43946a05618e"
      },
      "source": [
        "## Total number of lose Over 21 games for 2020-21 season by Miami Heat team\n",
        "Miami_heat_lose = len(Miami_heat_df[Miami_heat_df[\"W/L\"] == \"L\"])\n",
        "Miami_heat_lose"
      ],
      "id": "3b281db1",
      "execution_count": 61,
      "outputs": [
        {
          "output_type": "execute_result",
          "data": {
            "text/plain": [
              "13"
            ]
          },
          "metadata": {},
          "execution_count": 61
        }
      ]
    },
    {
      "cell_type": "code",
      "metadata": {
        "colab": {
          "base_uri": "https://localhost:8080/"
        },
        "id": "7565f68c",
        "outputId": "4576841c-f5b8-492c-f50f-fa8f90292460"
      },
      "source": [
        "## Total number of points scored Over 21 games for 2020-21 season by Miami Heat team\n",
        "Miami_heat_total_pts = pd.to_numeric(Miami_heat_df.Tm, errors='coerce').fillna(0).astype(int).sum()\n",
        "Miami_heat_total_pts"
      ],
      "id": "7565f68c",
      "execution_count": 62,
      "outputs": [
        {
          "output_type": "execute_result",
          "data": {
            "text/plain": [
              "2137"
            ]
          },
          "metadata": {},
          "execution_count": 62
        }
      ]
    },
    {
      "cell_type": "code",
      "metadata": {
        "colab": {
          "base_uri": "https://localhost:8080/"
        },
        "id": "bc30f4a4",
        "outputId": "5f2b69be-fe83-49b5-bc7c-8007eed5f0e0"
      },
      "source": [
        "## Total number of games played for 2020-21 season by Miami Heat team\n",
        "Miami_heat_total_game = len(Miami_heat_df['G'].value_counts())\n",
        "Miami_heat_total_game"
      ],
      "id": "bc30f4a4",
      "execution_count": 63,
      "outputs": [
        {
          "output_type": "execute_result",
          "data": {
            "text/plain": [
              "21"
            ]
          },
          "metadata": {},
          "execution_count": 63
        }
      ]
    },
    {
      "cell_type": "code",
      "metadata": {
        "colab": {
          "base_uri": "https://localhost:8080/",
          "height": 0
        },
        "id": "cb10c451",
        "outputId": "bc626106-a3ac-470a-cd12-dc08bd0a4228"
      },
      "source": [
        "## Field goal percentage Over 21 games for 2020-21 season by Miami Heat team\n",
        "Miami_heat_Field_goal = pd.to_numeric(Miami_heat_df['FG'], errors='coerce').fillna(0).astype(int).sum()\n",
        "Miami_heat_Field_goal_Amp = pd.to_numeric(Miami_heat_df['FGA'], errors='coerce').fillna(0).astype(int).sum()\n",
        "Miami_heat_Field_goal_percentage = f\"{(Miami_heat_Field_goal/Miami_heat_Field_goal_Amp) * 100} %\" \n",
        "Miami_heat_Field_goal_percentage"
      ],
      "id": "cb10c451",
      "execution_count": 64,
      "outputs": [
        {
          "output_type": "execute_result",
          "data": {
            "application/vnd.google.colaboratory.intrinsic+json": {
              "type": "string"
            },
            "text/plain": [
              "'45.3416149068323 %'"
            ]
          },
          "metadata": {},
          "execution_count": 64
        }
      ]
    },
    {
      "cell_type": "code",
      "metadata": {
        "colab": {
          "base_uri": "https://localhost:8080/",
          "height": 0
        },
        "id": "950e4b6e",
        "outputId": "229ffe14-46ce-4a9b-851f-8747603654ae"
      },
      "source": [
        "## 2 points Field goal percentage Over 21 games for 2020-21 season by Miami Heat team\n",
        "## 3 points Field goals calculation\n",
        "Miami_heat_3P_Field_goal = pd.to_numeric(Miami_heat_df['3P'], errors='coerce').fillna(0).astype(int).sum()\n",
        "Miami_heat_3PA_Field_goal = pd.to_numeric(Miami_heat_df['3PA'], errors='coerce').fillna(0).astype(int).sum()\n",
        "## Free throws Field goals calculation\n",
        "Miami_heat_FT_Field_goal = pd.to_numeric(Miami_heat_df['FT'], errors='coerce').fillna(0).astype(int).sum()\n",
        "Miami_heat_FTA_Field_goal = pd.to_numeric(Miami_heat_df['FTA'], errors='coerce').fillna(0).astype(int).sum()\n",
        "## 2 points Field goals calculation\n",
        "Miami_heat_2P_Field_goal = Miami_heat_Field_goal - Miami_heat_FT_Field_goal - Miami_heat_3P_Field_goal\n",
        "Miami_heat_2PA_Field_goal = Miami_heat_Field_goal_Amp - Miami_heat_FTA_Field_goal - Miami_heat_3PA_Field_goal\n",
        "Miami_heat_2P_Field_goal_percentage = f\"{(Miami_heat_2P_Field_goal/Miami_heat_2PA_Field_goal) * 100} %\"\n",
        "Miami_heat_2P_Field_goal_percentage"
      ],
      "id": "950e4b6e",
      "execution_count": 65,
      "outputs": [
        {
          "output_type": "execute_result",
          "data": {
            "application/vnd.google.colaboratory.intrinsic+json": {
              "type": "string"
            },
            "text/plain": [
              "'30.639097744360903 %'"
            ]
          },
          "metadata": {},
          "execution_count": 65
        }
      ]
    },
    {
      "cell_type": "code",
      "metadata": {
        "colab": {
          "base_uri": "https://localhost:8080/"
        },
        "id": "dd8d69fe",
        "outputId": "6c19296a-68f3-489a-de18-900e22eaf93d"
      },
      "source": [
        "## Team Total Turnover percentage Over 21 games for 2020-21 season by Miami Heat team\n",
        "Miami_heat_TOV = pd.to_numeric(Miami_heat_df['TOV'], errors='coerce').fillna(0).astype(int).sum()\n",
        "Miami_heat_Total_TOV = (Miami_heat_TOV/(Miami_heat_TOV + 0.44 + Miami_heat_Field_goal + Miami_heat_Field_goal_Amp)) * 100 \n",
        "Miami_heat_Total_TOV"
      ],
      "id": "dd8d69fe",
      "execution_count": 66,
      "outputs": [
        {
          "output_type": "execute_result",
          "data": {
            "text/plain": [
              "9.840865155632757"
            ]
          },
          "metadata": {},
          "execution_count": 66
        }
      ]
    },
    {
      "cell_type": "code",
      "metadata": {
        "colab": {
          "base_uri": "https://localhost:8080/"
        },
        "id": "c003a047",
        "outputId": "316a97f2-31b9-4f16-96cd-49e3569e4bb7"
      },
      "source": [
        "## Team win-lose percentage Over 21 game for 2020-21 season by Miami Heat team\n",
        "Miami_heat_Win_lose_percentage = (Miami_heat_wins/Miami_heat_total_game) * 100\n",
        "Miami_heat_Win_lose_percentage "
      ],
      "id": "c003a047",
      "execution_count": 67,
      "outputs": [
        {
          "output_type": "execute_result",
          "data": {
            "text/plain": [
              "33.33333333333333"
            ]
          },
          "metadata": {},
          "execution_count": 67
        }
      ]
    },
    {
      "cell_type": "code",
      "metadata": {
        "colab": {
          "base_uri": "https://localhost:8080/"
        },
        "id": "660b08f7",
        "outputId": "4d4f10d1-72e0-461f-eb09-bf6c6160b8c3"
      },
      "source": [
        "## Average points per game Over 21 games for 2020-21 season by Miami Heat team\n",
        "Miami_heat_Average_points_per_game = Miami_heat_total_pts/Miami_heat_total_game\n",
        "Miami_heat_Average_points_per_game "
      ],
      "id": "660b08f7",
      "execution_count": 68,
      "outputs": [
        {
          "output_type": "execute_result",
          "data": {
            "text/plain": [
              "101.76190476190476"
            ]
          },
          "metadata": {},
          "execution_count": 68
        }
      ]
    },
    {
      "cell_type": "code",
      "metadata": {
        "colab": {
          "base_uri": "https://localhost:8080/"
        },
        "id": "4a7c8ff9",
        "outputId": "a7a5301e-bc05-42b1-e6ed-99448f07e2a2"
      },
      "source": [
        "## Average Turnovers per Game Over 21 games for 2020-21 season by Miami Heat team\n",
        "Miami_heat_Average_Turnovers_per_Game = Miami_heat_TOV/Miami_heat_total_game\n",
        "Miami_heat_Average_Turnovers_per_Game"
      ],
      "id": "4a7c8ff9",
      "execution_count": 69,
      "outputs": [
        {
          "output_type": "execute_result",
          "data": {
            "text/plain": [
              "13.380952380952381"
            ]
          },
          "metadata": {},
          "execution_count": 69
        }
      ]
    },
    {
      "cell_type": "code",
      "metadata": {
        "colab": {
          "base_uri": "https://localhost:8080/"
        },
        "id": "ac349d26",
        "outputId": "e11d95af-2f91-4a4c-de9d-b026c1d3dfaf"
      },
      "source": [
        "## Assist to Turnovers per Game Over 21 games for 2020-21 season by Miami Heat team\n",
        "Miami_heat_Assist = pd.to_numeric(Miami_heat_df['AST'], errors='coerce').fillna(0).astype(int).sum()\n",
        "Miami_heat_Assist_to_TOV = Miami_heat_Assist/Miami_heat_TOV\n",
        "Miami_heat_Assist_to_TOV"
      ],
      "id": "ac349d26",
      "execution_count": 70,
      "outputs": [
        {
          "output_type": "execute_result",
          "data": {
            "text/plain": [
              "1.8220640569395017"
            ]
          },
          "metadata": {},
          "execution_count": 70
        }
      ]
    },
    {
      "cell_type": "code",
      "metadata": {
        "colab": {
          "base_uri": "https://localhost:8080/"
        },
        "id": "6d0003ec",
        "outputId": "71ca1071-6887-4d2e-bd1e-d048517e1b04"
      },
      "source": [
        "## Defensive Efficiency Over 21 games for 2020-21 season by Miami Heat team\n",
        "Miami_heat_offensive_rebound = pd.to_numeric(Miami_heat_df['ORB'], errors='coerce').fillna(0).astype(int).sum()\n",
        "Miami_heat_total_opponent_pts = pd.to_numeric(Miami_heat_df['Opp'], errors='coerce').fillna(0).astype(int).sum()\n",
        "Miami_heat_total_possessions = Miami_heat_Field_goal_Amp - Miami_heat_offensive_rebound + Miami_heat_TOV + (0.4*Miami_heat_FTA_Field_goal)\n",
        "Miami_heat_Defensive_Efficiency = Miami_heat_total_opponent_pts/Miami_heat_total_possessions\n",
        "Miami_heat_Defensive_Efficiency"
      ],
      "id": "6d0003ec",
      "execution_count": 71,
      "outputs": [
        {
          "output_type": "execute_result",
          "data": {
            "text/plain": [
              "1.11930628924549"
            ]
          },
          "metadata": {},
          "execution_count": 71
        }
      ]
    },
    {
      "cell_type": "markdown",
      "metadata": {
        "id": "854b12fa"
      },
      "source": [
        "## Analysising the Performance Indicators"
      ],
      "id": "854b12fa"
    },
    {
      "cell_type": "code",
      "metadata": {
        "colab": {
          "base_uri": "https://localhost:8080/",
          "height": 0
        },
        "id": "53295376",
        "outputId": "305c6c1a-f6b0-4ac2-e8bd-a7d621ec1e8c"
      },
      "source": [
        "## Win-lose percentage (W-L%) of the NBA Teams\n",
        "labels = 'Celtic Win lose percentage ', 'Miami heat Win lose percentage', 'Lakers Win lose percentage'\n",
        "sizes = np.array([52.4, 33.3, 66.7])\n",
        "colors = ['green', 'red', 'yellow']\n",
        "\n",
        "def absolute_value(val):\n",
        "    a  = np.round(val/100.*sizes.sum(), 0)\n",
        "    return a\n",
        "\n",
        "plt.pie(sizes, labels=labels, colors=colors,\n",
        "        autopct=absolute_value, shadow=True)\n",
        "\n",
        "plt.axis('equal')\n",
        "plt.show()"
      ],
      "id": "53295376",
      "execution_count": 72,
      "outputs": [
        {
          "output_type": "display_data",
          "data": {
            "image/png": "[encoded data removed]",
            "text/plain": [
              "<Figure size 432x288 with 1 Axes>"
            ]
          },
          "metadata": {}
        }
      ]
    },
    {
      "cell_type": "markdown",
      "metadata": {
        "id": "621109bf"
      },
      "source": [
        "## From the data virtualized above ; It can be stated that Los Angeles Lakers have the highest Win-Lose percentage ratio with 67% for the 2020/2021 season over 21 games played"
      ],
      "id": "621109bf"
    },
    {
      "cell_type": "code",
      "metadata": {
        "colab": {
          "base_uri": "https://localhost:8080/",
          "height": 0
        },
        "id": "92940efb",
        "outputId": "f7989a03-50a6-41c2-c251-87dc88a66e70"
      },
      "source": [
        "## Field goal percentage (FG%) of the NBA Teams\n",
        "labels = 'Celtic fiel goal percentage ', 'Miami field goal percentage', 'Lakers field goal percentage'\n",
        "sizes = np.array([46.7, 45.3, 49.2])\n",
        "colors = ['green', 'red', 'yellow']\n",
        "\n",
        "def absolute_value(val):\n",
        "    a  = np.round(val/100.*sizes.sum(), 0)\n",
        "    return a\n",
        "\n",
        "plt.pie(sizes, labels=labels, colors=colors,\n",
        "        autopct=absolute_value, shadow=True)\n",
        "\n",
        "plt.axis('equal')\n",
        "plt.show()"
      ],
      "id": "92940efb",
      "execution_count": 73,
      "outputs": [
        {
          "output_type": "display_data",
          "data": {
            "image/png": "[encoded data removed]",
            "text/plain": [
              "<Figure size 432x288 with 1 Axes>"
            ]
          },
          "metadata": {}
        }
      ]
    },
    {
      "cell_type": "markdown",
      "metadata": {
        "id": "4fd5d87b"
      },
      "source": [
        "## From the data virtualized above ; It can be stated that Los Angeles Lakers have the highest Field Goal percentage ratio with 49% for the 2020/2021 season over 21 games played"
      ],
      "id": "4fd5d87b"
    },
    {
      "cell_type": "markdown",
      "metadata": {
        "id": "0bcf4b94"
      },
      "source": [
        "## The Average Points per Game for the Lakers for 2020/2021 season is 107"
      ],
      "id": "0bcf4b94"
    },
    {
      "cell_type": "markdown",
      "metadata": {
        "id": "efcd6cd2"
      },
      "source": [
        "## The Average Turnovers per Game for the Boston's Celtics State is 13"
      ],
      "id": "efcd6cd2"
    },
    {
      "cell_type": "code",
      "metadata": {
        "colab": {
          "base_uri": "https://localhost:8080/",
          "height": 0
        },
        "id": "da3facdb",
        "outputId": "90d973d9-85a5-4fa8-e2fd-bbf8576dc23b"
      },
      "source": [
        "## Turnover per game (TOV) of the NBA Teams\n",
        "labels = 'Celtic Turnover ', 'Miami Heat Turnover', 'Lakers Turnover'\n",
        "sizes = np.array([13.8, 13.3, 12.4])\n",
        "colors = ['green', 'red', 'yellow']\n",
        "\n",
        "def absolute_value(val):\n",
        "    a  = np.round(val/100.*sizes.sum(), 0)\n",
        "    return a\n",
        "\n",
        "plt.pie(sizes, labels=labels, colors=colors,\n",
        "        autopct=absolute_value, shadow=True)\n",
        "\n",
        "plt.axis('equal')\n",
        "plt.show()"
      ],
      "id": "da3facdb",
      "execution_count": 74,
      "outputs": [
        {
          "output_type": "display_data",
          "data": {
            "image/png": "[encoded data removed]",
            "text/plain": [
              "<Figure size 432x288 with 1 Axes>"
            ]
          },
          "metadata": {}
        }
      ]
    },
    {
      "cell_type": "markdown",
      "metadata": {
        "id": "3a92e6e7"
      },
      "source": [
        "## From the data virtualized above ; It can be stated that Boston Celtics have the highest Turnover ratio with 14 for the 2020/2021 season over 21 games played"
      ],
      "id": "3a92e6e7"
    },
    {
      "cell_type": "markdown",
      "metadata": {
        "id": "c526e38f"
      },
      "source": [
        "## The Two additional indicators analysed is\n",
        "### a. Assist To Turnover ratio\n",
        "### b. Defensive Efficiency"
      ],
      "id": "c526e38f"
    },
    {
      "cell_type": "markdown",
      "metadata": {
        "id": "ebfb7ec7"
      },
      "source": [
        "### Assist to Turnover ratio was chosen to determine the teams ability on ball control throughout the 21 games period\n",
        "### Assist to Turnover high value determines that the team have more ball control than their opponents while low Assist to Turnover indicates poor ball control of the team.\n",
        "\n",
        "### Defensive Efficiency was chosen to determine the team ability to allow opponent team to gain more points against it.\n",
        "### Defensive Efficiency of every good team is expected to be below 1.0 ,any team with a higher defensive efficiency above 1.0 is termed to have a poor defensive record."
      ],
      "id": "ebfb7ec7"
    },
    {
      "cell_type": "code",
      "metadata": {
        "colab": {
          "base_uri": "https://localhost:8080/",
          "height": 0
        },
        "id": "503a9c70",
        "outputId": "3a6286ea-711b-421d-df53-a6d4a04b22a3"
      },
      "source": [
        "## Assist to Turnover per game (AST/TO) of the NBA Teams\n",
        "labels = 'Celtic Assist to Turnover ', 'Miami Heat Assist to Turnover', 'Lakers Assist to Turnover'\n",
        "sizes = np.array([1.5, 1.82, 1.8])\n",
        "colors = ['green', 'red', 'yellow']\n",
        "\n",
        "def absolute_value(val):\n",
        "    a  = np.round(val, 0)\n",
        "    return a\n",
        "\n",
        "plt.pie(sizes, labels=labels, colors=colors,\n",
        "        autopct=absolute_value, shadow=True)\n",
        "\n",
        "plt.axis('equal')\n",
        "plt.show()"
      ],
      "id": "503a9c70",
      "execution_count": 75,
      "outputs": [
        {
          "output_type": "display_data",
          "data": {
            "image/png": "[encoded data removed]",
            "text/plain": [
              "<Figure size 432x288 with 1 Axes>"
            ]
          },
          "metadata": {}
        }
      ]
    },
    {
      "cell_type": "code",
      "metadata": {
        "colab": {
          "base_uri": "https://localhost:8080/",
          "height": 0
        },
        "id": "c154e544",
        "outputId": "5bd9d921-1754-4398-8c18-f8f175a33ce3"
      },
      "source": [
        "## Defensive Efficiency per game (AST/TO) of the NBA Teams\n",
        "labels = 'Celtic Defensive Efficiency ', 'Miami Heat Defensive Efficiency', 'Lakers Defensive Efficiency'\n",
        "sizes = np.array([1.09, 1.12, 1.04])\n",
        "colors = ['green', 'red', 'yellow']\n",
        "\n",
        "def absolute_value(val):\n",
        "    a  = np.round(val, 0)\n",
        "    return a\n",
        "\n",
        "plt.pie(sizes, labels=labels, colors=colors,\n",
        "        autopct=absolute_value, shadow=True)\n",
        "\n",
        "plt.axis('equal')\n",
        "plt.show()"
      ],
      "id": "c154e544",
      "execution_count": 76,
      "outputs": [
        {
          "output_type": "display_data",
          "data": {
            "image/png": "[encoded data removed]",
            "text/plain": [
              "<Figure size 432x288 with 1 Axes>"
            ]
          },
          "metadata": {}
        }
      ]
    },
    {
      "cell_type": "markdown",
      "metadata": {
        "id": "845da18e"
      },
      "source": [
        "## From the Assist to Turnover ratio of 35% and Defensive Efficiency of the NBA Teams Data Virtualized above, it implies that Los Angeles Lakers have a good control of the ball possessions during field plays and a good defensive efficiency 0f 32% compared to the other two teams,It is therefore the best team from the two performance indicators"
      ],
      "id": "845da18e"
    },
    {
      "cell_type": "markdown",
      "metadata": {
        "id": "df8f78b6"
      },
      "source": [
        "### The most important performance indicator of the Data is the Win-Lose percentage(W-L%) because it is the performance indicator that summaries all other good indicators and it is the indicator that determines if other performance indicators results in good outcome or not."
      ],
      "id": "df8f78b6"
    },
    {
      "cell_type": "markdown",
      "metadata": {
        "id": "78a46452"
      },
      "source": [
        "### The best team over the 20 games played in 2020/2021 is Los Angeles Lakers because they have the greatest Win-Lose percentage of 67% among the NBA teams which implies that other performance indicators such as good Defensive efficiency of 32&, Turnover 12 and average points per game of 107 points are yielding the required results of winning games and lifting the NBA Trophy at the end of the season."
      ],
      "id": "78a46452"
    },
    {
      "cell_type": "code",
      "metadata": {
        "id": "5b6a3445"
      },
      "source": [
        ""
      ],
      "id": "5b6a3445",
      "execution_count": 76,
      "outputs": []
    }
  ]
}